{
 "cells": [
  {
   "cell_type": "markdown",
   "metadata": {},
   "source": [
    "#  Movie Dataset Analyse\n",
    "\n",
    "### Athor: xxxxxxxxx\n",
    "### Date: xxxxxxx\n",
    "### Description: This notebook aims at preparing, analysing, modeling, predicting and visualizing the movie dataset"
   ]
  },
  {
   "cell_type": "markdown",
   "metadata": {},
   "source": [
    "<font color='red' size='5' >Attetion: Before staring this notebook, </font>\n",
    "<font color='blue'>\n",
    "<p>you should download datasets_2745_4700_movies.csv if it does't exist.</p>\n",
    "    \n",
    "<p>you should scratch movie_directors_information.csv if it does't exist.</p>\n",
    "<p>you should scratch gdps_1970_2024.csv if it does't exist.</p>\n",
    "    \n",
    "<p>This notebook doesn't contain any scraching script, for the details of scraching part, you should read the parsering files and the README file</p>\n",
    "<p>This notebook doesn't contain any scraching script, for the details of scraching part, you should read the parsering files and the README file</p>\n",
    "</font>"
   ]
  },
  {
   "cell_type": "markdown",
   "metadata": {},
   "source": [
    "## Part I. Data Preprocessing"
   ]
  },
  {
   "cell_type": "markdown",
   "metadata": {},
   "source": [
    "###  1. Datasets Explication\n",
    "<ol>\n",
    "<li>datasets_2745_4700_movies.csv\n",
    "    <p>(movie dataset, which is downloaded from Kaggle: <a> https://www.kaggle.com/danielgrijalvas/movies </a>)</p>    \n",
    "</li>\n",
    "<li>movie_directors_information.csv\n",
    "    <p>(movie directors information dataset, which is scratched from wikipedia using\n",
    "        <a> parser_director.py </a>)</p>\n",
    "</li>\n",
    "<li>gdps_1970_2024.csv\n",
    "    <p>(world countries gdp dataset, which is scratched from wikipedia using\n",
    "        <a> parser_gdp.py </a>)</p>    \n",
    "</li>\n",
    "</ol>"
   ]
  },
  {
   "cell_type": "code",
   "execution_count": 1,
   "metadata": {},
   "outputs": [],
   "source": [
    "import pandas as pd\n",
    "import numpy as np"
   ]
  },
  {
   "cell_type": "markdown",
   "metadata": {},
   "source": [
    "### 2. Datasets Quick View"
   ]
  },
  {
   "cell_type": "markdown",
   "metadata": {},
   "source": [
    "#### [1]  Movies Dataset"
   ]
  },
  {
   "cell_type": "code",
   "execution_count": 2,
   "metadata": {},
   "outputs": [
    {
     "data": {
      "text/plain": [
       "Index(['budget', 'company', 'country', 'director', 'genre', 'gross', 'name',\n",
       "       'rating', 'released', 'runtime', 'score', 'star', 'votes', 'writer',\n",
       "       'year'],\n",
       "      dtype='object')"
      ]
     },
     "execution_count": 2,
     "metadata": {},
     "output_type": "execute_result"
    }
   ],
   "source": [
    "# get the columns of the DataFrame, attention: the file that we download from kaggle is encodes in \"latin-1\", not 'uft-8'\n",
    "# we must precise the encode format\n",
    "df1 = pd.read_csv('./datasets_2745_4700_movies.csv', sep=',' , encoding='latin-1', na_filter = False)\n",
    "# show columns\n",
    "df1.columns"
   ]
  },
  {
   "cell_type": "code",
   "execution_count": 3,
   "metadata": {},
   "outputs": [
    {
     "name": "stdout",
     "output_type": "stream",
     "text": [
      "<class 'pandas.core.frame.DataFrame'>\n",
      "RangeIndex: 6820 entries, 0 to 6819\n",
      "Data columns (total 15 columns):\n",
      " #   Column    Non-Null Count  Dtype  \n",
      "---  ------    --------------  -----  \n",
      " 0   budget    6820 non-null   float64\n",
      " 1   company   6820 non-null   object \n",
      " 2   country   6820 non-null   object \n",
      " 3   director  6820 non-null   object \n",
      " 4   genre     6820 non-null   object \n",
      " 5   gross     6820 non-null   float64\n",
      " 6   name      6820 non-null   object \n",
      " 7   rating    6820 non-null   object \n",
      " 8   released  6820 non-null   object \n",
      " 9   runtime   6820 non-null   int64  \n",
      " 10  score     6820 non-null   float64\n",
      " 11  star      6820 non-null   object \n",
      " 12  votes     6820 non-null   int64  \n",
      " 13  writer    6820 non-null   object \n",
      " 14  year      6820 non-null   int64  \n",
      "dtypes: float64(3), int64(3), object(9)\n",
      "memory usage: 799.3+ KB\n",
      "None\n"
     ]
    },
    {
     "data": {
      "text/html": [
       "<div>\n",
       "<style scoped>\n",
       "    .dataframe tbody tr th:only-of-type {\n",
       "        vertical-align: middle;\n",
       "    }\n",
       "\n",
       "    .dataframe tbody tr th {\n",
       "        vertical-align: top;\n",
       "    }\n",
       "\n",
       "    .dataframe thead th {\n",
       "        text-align: right;\n",
       "    }\n",
       "</style>\n",
       "<table border=\"1\" class=\"dataframe\">\n",
       "  <thead>\n",
       "    <tr style=\"text-align: right;\">\n",
       "      <th></th>\n",
       "      <th>budget</th>\n",
       "      <th>company</th>\n",
       "      <th>country</th>\n",
       "      <th>director</th>\n",
       "      <th>genre</th>\n",
       "      <th>gross</th>\n",
       "      <th>name</th>\n",
       "      <th>rating</th>\n",
       "      <th>released</th>\n",
       "      <th>runtime</th>\n",
       "      <th>score</th>\n",
       "      <th>star</th>\n",
       "      <th>votes</th>\n",
       "      <th>writer</th>\n",
       "      <th>year</th>\n",
       "    </tr>\n",
       "  </thead>\n",
       "  <tbody>\n",
       "    <tr>\n",
       "      <th>0</th>\n",
       "      <td>8000000.0</td>\n",
       "      <td>Columbia Pictures Corporation</td>\n",
       "      <td>USA</td>\n",
       "      <td>Rob Reiner</td>\n",
       "      <td>Adventure</td>\n",
       "      <td>52287414.0</td>\n",
       "      <td>Stand by Me</td>\n",
       "      <td>R</td>\n",
       "      <td>1986-08-22</td>\n",
       "      <td>89</td>\n",
       "      <td>8.1</td>\n",
       "      <td>Wil Wheaton</td>\n",
       "      <td>299174</td>\n",
       "      <td>Stephen King</td>\n",
       "      <td>1986</td>\n",
       "    </tr>\n",
       "    <tr>\n",
       "      <th>1</th>\n",
       "      <td>6000000.0</td>\n",
       "      <td>Paramount Pictures</td>\n",
       "      <td>USA</td>\n",
       "      <td>John Hughes</td>\n",
       "      <td>Comedy</td>\n",
       "      <td>70136369.0</td>\n",
       "      <td>Ferris Bueller's Day Off</td>\n",
       "      <td>PG-13</td>\n",
       "      <td>1986-06-11</td>\n",
       "      <td>103</td>\n",
       "      <td>7.8</td>\n",
       "      <td>Matthew Broderick</td>\n",
       "      <td>264740</td>\n",
       "      <td>John Hughes</td>\n",
       "      <td>1986</td>\n",
       "    </tr>\n",
       "    <tr>\n",
       "      <th>2</th>\n",
       "      <td>15000000.0</td>\n",
       "      <td>Paramount Pictures</td>\n",
       "      <td>USA</td>\n",
       "      <td>Tony Scott</td>\n",
       "      <td>Action</td>\n",
       "      <td>179800601.0</td>\n",
       "      <td>Top Gun</td>\n",
       "      <td>PG</td>\n",
       "      <td>1986-05-16</td>\n",
       "      <td>110</td>\n",
       "      <td>6.9</td>\n",
       "      <td>Tom Cruise</td>\n",
       "      <td>236909</td>\n",
       "      <td>Jim Cash</td>\n",
       "      <td>1986</td>\n",
       "    </tr>\n",
       "  </tbody>\n",
       "</table>\n",
       "</div>"
      ],
      "text/plain": [
       "       budget                        company country     director      genre  \\\n",
       "0   8000000.0  Columbia Pictures Corporation     USA   Rob Reiner  Adventure   \n",
       "1   6000000.0             Paramount Pictures     USA  John Hughes     Comedy   \n",
       "2  15000000.0             Paramount Pictures     USA   Tony Scott     Action   \n",
       "\n",
       "         gross                      name rating    released  runtime  score  \\\n",
       "0   52287414.0               Stand by Me      R  1986-08-22       89    8.1   \n",
       "1   70136369.0  Ferris Bueller's Day Off  PG-13  1986-06-11      103    7.8   \n",
       "2  179800601.0                   Top Gun     PG  1986-05-16      110    6.9   \n",
       "\n",
       "                star   votes        writer  year  \n",
       "0        Wil Wheaton  299174  Stephen King  1986  \n",
       "1  Matthew Broderick  264740   John Hughes  1986  \n",
       "2         Tom Cruise  236909      Jim Cash  1986  "
      ]
     },
     "execution_count": 3,
     "metadata": {},
     "output_type": "execute_result"
    }
   ],
   "source": [
    "# show the dataframe info\n",
    "print(df1.info())\n",
    "# show the first 3 rows\n",
    "df1.head(3)"
   ]
  },
  {
   "cell_type": "code",
   "execution_count": 4,
   "metadata": {},
   "outputs": [
    {
     "data": {
      "text/plain": [
       "budget      float64\n",
       "company      object\n",
       "country      object\n",
       "director     object\n",
       "genre        object\n",
       "gross       float64\n",
       "name         object\n",
       "rating       object\n",
       "released     object\n",
       "runtime       int64\n",
       "score       float64\n",
       "star         object\n",
       "votes         int64\n",
       "writer       object\n",
       "year          int64\n",
       "dtype: object"
      ]
     },
     "execution_count": 4,
     "metadata": {},
     "output_type": "execute_result"
    }
   ],
   "source": [
    "# show data types\n",
    "df1.dtypes"
   ]
  },
  {
   "cell_type": "markdown",
   "metadata": {},
   "source": [
    "<font color=\"blue\" size=\"4\">\n",
    "<p>Conclusion: from the code above, we know that Movies Dataset is downloaded from kaggle, it's already processed. So it's clean and consistent</p>\n",
    "</font>"
   ]
  },
  {
   "cell_type": "markdown",
   "metadata": {},
   "source": [
    "#### [2]  Directors Dataset"
   ]
  },
  {
   "cell_type": "code",
   "execution_count": 5,
   "metadata": {},
   "outputs": [
    {
     "data": {
      "text/plain": [
       "Index(['Director', 'Education', 'Year Active', 'Birth Day', 'Birth Place',\n",
       "       'Roles', 'Died', 'Link'],\n",
       "      dtype='object')"
      ]
     },
     "execution_count": 5,
     "metadata": {},
     "output_type": "execute_result"
    }
   ],
   "source": [
    "# get the columns of the DataFrame, attention: the file that we parsed from html is encodes in \"latin-1\", not 'uft-8'\n",
    "# we must precise the encode format\n",
    "df2 = pd.read_csv('./movie_directors_information.csv', sep=',' , encoding='latin-1', na_filter = False)\n",
    "# show columns\n",
    "df2.columns"
   ]
  },
  {
   "cell_type": "code",
   "execution_count": 6,
   "metadata": {},
   "outputs": [
    {
     "name": "stdout",
     "output_type": "stream",
     "text": [
      "<class 'pandas.core.frame.DataFrame'>\n",
      "RangeIndex: 1874 entries, 0 to 1873\n",
      "Data columns (total 8 columns):\n",
      " #   Column       Non-Null Count  Dtype \n",
      "---  ------       --------------  ----- \n",
      " 0   Director     1874 non-null   object\n",
      " 1   Education    1874 non-null   object\n",
      " 2   Year Active  1874 non-null   object\n",
      " 3   Birth Day    1874 non-null   object\n",
      " 4   Birth Place  1874 non-null   object\n",
      " 5   Roles        1874 non-null   object\n",
      " 6   Died         1874 non-null   int64 \n",
      " 7   Link         1874 non-null   object\n",
      "dtypes: int64(1), object(7)\n",
      "memory usage: 117.2+ KB\n",
      "None\n"
     ]
    },
    {
     "data": {
      "text/html": [
       "<div>\n",
       "<style scoped>\n",
       "    .dataframe tbody tr th:only-of-type {\n",
       "        vertical-align: middle;\n",
       "    }\n",
       "\n",
       "    .dataframe tbody tr th {\n",
       "        vertical-align: top;\n",
       "    }\n",
       "\n",
       "    .dataframe thead th {\n",
       "        text-align: right;\n",
       "    }\n",
       "</style>\n",
       "<table border=\"1\" class=\"dataframe\">\n",
       "  <thead>\n",
       "    <tr style=\"text-align: right;\">\n",
       "      <th></th>\n",
       "      <th>Director</th>\n",
       "      <th>Education</th>\n",
       "      <th>Year Active</th>\n",
       "      <th>Birth Day</th>\n",
       "      <th>Birth Place</th>\n",
       "      <th>Roles</th>\n",
       "      <th>Died</th>\n",
       "      <th>Link</th>\n",
       "    </tr>\n",
       "  </thead>\n",
       "  <tbody>\n",
       "    <tr>\n",
       "      <th>0</th>\n",
       "      <td>Dodo Abashidze</td>\n",
       "      <td></td>\n",
       "      <td>19541988</td>\n",
       "      <td>1924-05-01</td>\n",
       "      <td>Tbilisi, Georgian SSR, Georgia</td>\n",
       "      <td>Actor and film director</td>\n",
       "      <td>1</td>\n",
       "      <td>https://en.wikipedia.org/wiki/Dodo_Abashidze</td>\n",
       "    </tr>\n",
       "    <tr>\n",
       "      <th>1</th>\n",
       "      <td>George Abbott</td>\n",
       "      <td></td>\n",
       "      <td></td>\n",
       "      <td>1887-06-25</td>\n",
       "      <td></td>\n",
       "      <td>Theatre producertheatre directorplaywrightscre...</td>\n",
       "      <td>1</td>\n",
       "      <td>https://en.wikipedia.org/wiki/George_Abbott</td>\n",
       "    </tr>\n",
       "    <tr>\n",
       "      <th>2</th>\n",
       "      <td>Jim Abrahams</td>\n",
       "      <td></td>\n",
       "      <td>1972present</td>\n",
       "      <td>1944-05-10</td>\n",
       "      <td>Shorewood, Wisconsin, U.S.</td>\n",
       "      <td>Film director, film producer, screenwriter</td>\n",
       "      <td>0</td>\n",
       "      <td>https://en.wikipedia.org/wiki/Jim_Abrahams</td>\n",
       "    </tr>\n",
       "  </tbody>\n",
       "</table>\n",
       "</div>"
      ],
      "text/plain": [
       "         Director Education   Year Active   Birth Day  \\\n",
       "0  Dodo Abashidze               19541988  1924-05-01   \n",
       "1   George Abbott                          1887-06-25   \n",
       "2    Jim Abrahams            1972present  1944-05-10   \n",
       "\n",
       "                      Birth Place  \\\n",
       "0  Tbilisi, Georgian SSR, Georgia   \n",
       "1                                   \n",
       "2      Shorewood, Wisconsin, U.S.   \n",
       "\n",
       "                                               Roles  Died  \\\n",
       "0                            Actor and film director     1   \n",
       "1  Theatre producertheatre directorplaywrightscre...     1   \n",
       "2         Film director, film producer, screenwriter     0   \n",
       "\n",
       "                                           Link  \n",
       "0  https://en.wikipedia.org/wiki/Dodo_Abashidze  \n",
       "1   https://en.wikipedia.org/wiki/George_Abbott  \n",
       "2    https://en.wikipedia.org/wiki/Jim_Abrahams  "
      ]
     },
     "execution_count": 6,
     "metadata": {},
     "output_type": "execute_result"
    }
   ],
   "source": [
    "# see the data info\n",
    "print(df2.info())\n",
    "# show the first 3 rows\n",
    "df2.head(3)"
   ]
  },
  {
   "cell_type": "markdown",
   "metadata": {},
   "source": [
    "<font color='blue' size='4'>\n",
    "we can see, beacause of the encode format, the column \"Year Active\" contains some unrecognized characters, and the other columns are not that clean, so we will make the data pretty and consistent. This can make our result more convincing.\n",
    "</font>"
   ]
  },
  {
   "cell_type": "code",
   "execution_count": 7,
   "metadata": {},
   "outputs": [],
   "source": [
    "def pretty(df):\n",
    "    \"\"\"\n",
    "    make pretty the movie directors information using regex\n",
    "    \"\"\"\n",
    "    df['Director'].replace(to_replace=r'\\.*([^A-Za-z\\.\\s]+).*', value=r' ', regex=True, inplace=True)\n",
    "    df['Director'] = df['Director'].str.strip()\n",
    "    \n",
    "    df['Education'].replace(to_replace=r'\\.*([^A-Za-z\\.\\s]+).*', value=r' ', regex=True, inplace=True)\n",
    "    df['Education'].replace(to_replace=r'(Education|education)+', value=r' ', regex=True, inplace=True)\n",
    "    df['Education'] = df['Education'].str.strip()\n",
    "    \n",
    "    df['Year Active'].replace(to_replace=r'([^0-9-(present)])+', value=r' ', regex=True, inplace=True)\n",
    "    df['Year Active'].replace(to_replace=r'([A-Za-z]+\\s+[A-Za-z]*)', value=r'present', regex=True, inplace=True)\n",
    "    df['Year Active'] = df['Year Active'].str.strip()\n",
    "    df['Year Active'].replace(to_replace=r'(\\s+)', value=r'-', regex=True, inplace=True)\n",
    "    df['Year Active'].replace(to_replace=r'([^0-9-A-Za-z]+)', value=r'', regex=True, inplace=True)\n",
    "    df['Year Active'] = df['Year Active'].str.strip()\n",
    "    \n",
    "    df['Birth Day'].replace(to_replace=r'([^0-9-]+)', value=r'', regex=True, inplace=True)\n",
    "    df['Birth Day'] = df['Birth Day'].str.strip()\n",
    "    \n",
    "    df['Birth Place'].replace(to_replace=r'([^A-Za-z\\.\\s,]+)', value=r' ', regex=True, inplace=True)\n",
    "    df['Birth Place'] = df['Birth Place'].str.strip()\n",
    "    \n",
    "    df['Roles'].replace(to_replace=r'([^A-Za-z\\.\\s,]+)', value=r' ', regex=True, inplace=True)\n",
    "    df['Roles'] = df['Roles'].str.strip()\n",
    "    \n",
    "    return df"
   ]
  },
  {
   "cell_type": "code",
   "execution_count": 8,
   "metadata": {},
   "outputs": [],
   "source": [
    "df2 = pretty(df2)"
   ]
  },
  {
   "cell_type": "code",
   "execution_count": 9,
   "metadata": {},
   "outputs": [
    {
     "data": {
      "text/html": [
       "<div>\n",
       "<style scoped>\n",
       "    .dataframe tbody tr th:only-of-type {\n",
       "        vertical-align: middle;\n",
       "    }\n",
       "\n",
       "    .dataframe tbody tr th {\n",
       "        vertical-align: top;\n",
       "    }\n",
       "\n",
       "    .dataframe thead th {\n",
       "        text-align: right;\n",
       "    }\n",
       "</style>\n",
       "<table border=\"1\" class=\"dataframe\">\n",
       "  <thead>\n",
       "    <tr style=\"text-align: right;\">\n",
       "      <th></th>\n",
       "      <th>Director</th>\n",
       "      <th>Education</th>\n",
       "      <th>Year Active</th>\n",
       "      <th>Birth Day</th>\n",
       "      <th>Birth Place</th>\n",
       "      <th>Roles</th>\n",
       "      <th>Died</th>\n",
       "      <th>Link</th>\n",
       "    </tr>\n",
       "  </thead>\n",
       "  <tbody>\n",
       "    <tr>\n",
       "      <th>0</th>\n",
       "      <td>Dodo Abashidze</td>\n",
       "      <td></td>\n",
       "      <td>1954-1988</td>\n",
       "      <td>1924-05-01</td>\n",
       "      <td>Tbilisi, Georgian SSR, Georgia</td>\n",
       "      <td>Actor and film director</td>\n",
       "      <td>1</td>\n",
       "      <td>https://en.wikipedia.org/wiki/Dodo_Abashidze</td>\n",
       "    </tr>\n",
       "    <tr>\n",
       "      <th>1</th>\n",
       "      <td>George Abbott</td>\n",
       "      <td></td>\n",
       "      <td></td>\n",
       "      <td>1887-06-25</td>\n",
       "      <td></td>\n",
       "      <td>Theatre producertheatre directorplaywrightscre...</td>\n",
       "      <td>1</td>\n",
       "      <td>https://en.wikipedia.org/wiki/George_Abbott</td>\n",
       "    </tr>\n",
       "    <tr>\n",
       "      <th>2</th>\n",
       "      <td>Jim Abrahams</td>\n",
       "      <td></td>\n",
       "      <td>1972-present</td>\n",
       "      <td>1944-05-10</td>\n",
       "      <td>Shorewood, Wisconsin, U.S.</td>\n",
       "      <td>Film director, film producer, screenwriter</td>\n",
       "      <td>0</td>\n",
       "      <td>https://en.wikipedia.org/wiki/Jim_Abrahams</td>\n",
       "    </tr>\n",
       "    <tr>\n",
       "      <th>3</th>\n",
       "      <td>Abiola Abrams</td>\n",
       "      <td></td>\n",
       "      <td></td>\n",
       "      <td>1976-07-29</td>\n",
       "      <td></td>\n",
       "      <td>Author, filmmaker, TV personality</td>\n",
       "      <td>0</td>\n",
       "      <td>https://en.wikipedia.org/wiki/Abiola_Abrams</td>\n",
       "    </tr>\n",
       "    <tr>\n",
       "      <th>4</th>\n",
       "      <td>J. J. Abrams</td>\n",
       "      <td>Palisades Charter High School</td>\n",
       "      <td>1982-present</td>\n",
       "      <td>1966-06-27</td>\n",
       "      <td>New York City, New York, U.S.</td>\n",
       "      <td>Director, producer, screenwriter, musician, co...</td>\n",
       "      <td>0</td>\n",
       "      <td>https://en.wikipedia.org/wiki/J._J._Abrams</td>\n",
       "    </tr>\n",
       "  </tbody>\n",
       "</table>\n",
       "</div>"
      ],
      "text/plain": [
       "         Director                      Education   Year Active   Birth Day  \\\n",
       "0  Dodo Abashidze                                    1954-1988  1924-05-01   \n",
       "1   George Abbott                                               1887-06-25   \n",
       "2    Jim Abrahams                                 1972-present  1944-05-10   \n",
       "3   Abiola Abrams                                               1976-07-29   \n",
       "4    J. J. Abrams  Palisades Charter High School  1982-present  1966-06-27   \n",
       "\n",
       "                      Birth Place  \\\n",
       "0  Tbilisi, Georgian SSR, Georgia   \n",
       "1                                   \n",
       "2      Shorewood, Wisconsin, U.S.   \n",
       "3                                   \n",
       "4   New York City, New York, U.S.   \n",
       "\n",
       "                                               Roles  Died  \\\n",
       "0                            Actor and film director     1   \n",
       "1  Theatre producertheatre directorplaywrightscre...     1   \n",
       "2         Film director, film producer, screenwriter     0   \n",
       "3                  Author, filmmaker, TV personality     0   \n",
       "4  Director, producer, screenwriter, musician, co...     0   \n",
       "\n",
       "                                           Link  \n",
       "0  https://en.wikipedia.org/wiki/Dodo_Abashidze  \n",
       "1   https://en.wikipedia.org/wiki/George_Abbott  \n",
       "2    https://en.wikipedia.org/wiki/Jim_Abrahams  \n",
       "3   https://en.wikipedia.org/wiki/Abiola_Abrams  \n",
       "4    https://en.wikipedia.org/wiki/J._J._Abrams  "
      ]
     },
     "execution_count": 9,
     "metadata": {},
     "output_type": "execute_result"
    }
   ],
   "source": [
    "# show for 5 rows\n",
    "df2.head(5)"
   ]
  },
  {
   "cell_type": "markdown",
   "metadata": {},
   "source": [
    "<font color=\"blue\" size=\"4\">\n",
    "<p>Conclusion: from the code above, we know that Directors Dataset is scratched from the internet by ourselves, it's not clean and not consistent. So we use regex to remove those illegal characters and cast its format. Now the Directors Dataset is ready</p>\n",
    "</font>"
   ]
  },
  {
   "cell_type": "markdown",
   "metadata": {},
   "source": [
    "#### [3]  World Countries GDP  Dataset"
   ]
  },
  {
   "cell_type": "code",
   "execution_count": 10,
   "metadata": {},
   "outputs": [
    {
     "data": {
      "text/plain": [
       "Index(['Country (or dependent territory)', '1970', '1971', '1972', '1973',\n",
       "       '1974', '1975', '1976', '1977', '1978', '1979', '1980', '1981', '1982',\n",
       "       '1983', '1984', '1985', '1986', '1987', '1988', '1989', '1990', '1991',\n",
       "       '1992', '1993', '1994', '1995', '1996', '1997', '1998', '1999', '2000',\n",
       "       '2001', '2002', '2003', '2004', '2005', '2006', '2007', '2008', '2009',\n",
       "       '2010', '2011', '2012', '2013', '2014', '2015', '2016', '2017', '2018',\n",
       "       '2019', '2020', '2021', '2022', '2023', '2024'],\n",
       "      dtype='object')"
      ]
     },
     "execution_count": 10,
     "metadata": {},
     "output_type": "execute_result"
    }
   ],
   "source": [
    "# get the columns of the DataFrame, attention: the file that we parsed from html is encodes in \"latin-1\", not 'uft-8'\n",
    "# we must precise the encode format\n",
    "df3 = pd.read_csv('./gdps_1970_2024.csv', sep=',' , encoding='latin-1', na_filter = False)\n",
    "# show columns\n",
    "df3.columns"
   ]
  },
  {
   "cell_type": "code",
   "execution_count": 11,
   "metadata": {},
   "outputs": [
    {
     "data": {
      "text/html": [
       "<div>\n",
       "<style scoped>\n",
       "    .dataframe tbody tr th:only-of-type {\n",
       "        vertical-align: middle;\n",
       "    }\n",
       "\n",
       "    .dataframe tbody tr th {\n",
       "        vertical-align: top;\n",
       "    }\n",
       "\n",
       "    .dataframe thead th {\n",
       "        text-align: right;\n",
       "    }\n",
       "</style>\n",
       "<table border=\"1\" class=\"dataframe\">\n",
       "  <thead>\n",
       "    <tr style=\"text-align: right;\">\n",
       "      <th></th>\n",
       "      <th>Country (or dependent territory)</th>\n",
       "      <th>1970</th>\n",
       "      <th>1971</th>\n",
       "      <th>1972</th>\n",
       "      <th>1973</th>\n",
       "      <th>1974</th>\n",
       "      <th>1975</th>\n",
       "      <th>1976</th>\n",
       "      <th>1977</th>\n",
       "      <th>1978</th>\n",
       "      <th>...</th>\n",
       "      <th>2015</th>\n",
       "      <th>2016</th>\n",
       "      <th>2017</th>\n",
       "      <th>2018</th>\n",
       "      <th>2019</th>\n",
       "      <th>2020</th>\n",
       "      <th>2021</th>\n",
       "      <th>2022</th>\n",
       "      <th>2023</th>\n",
       "      <th>2024</th>\n",
       "    </tr>\n",
       "  </thead>\n",
       "  <tbody>\n",
       "    <tr>\n",
       "      <th>0</th>\n",
       "      <td>Afghanistan</td>\n",
       "      <td>1,749</td>\n",
       "      <td>1,831</td>\n",
       "      <td>1,596</td>\n",
       "      <td>1,733</td>\n",
       "      <td>2,156</td>\n",
       "      <td>2,367</td>\n",
       "      <td>2,556</td>\n",
       "      <td>2,953</td>\n",
       "      <td>3,300</td>\n",
       "      <td>...</td>\n",
       "      <td>19,687</td>\n",
       "      <td>19,454</td>\n",
       "      <td>20,235</td>\n",
       "      <td>19,585</td>\n",
       "      <td>19,990</td>\n",
       "      <td>20,682</td>\n",
       "      <td>21,928</td>\n",
       "      <td>23,577</td>\n",
       "      <td>25,450</td>\n",
       "      <td>27,608</td>\n",
       "    </tr>\n",
       "    <tr>\n",
       "      <th>1</th>\n",
       "      <td>Albania</td>\n",
       "      <td>2,266</td>\n",
       "      <td>2,331</td>\n",
       "      <td>2,398</td>\n",
       "      <td>2,467</td>\n",
       "      <td>2,537</td>\n",
       "      <td>2,610</td>\n",
       "      <td>2,686</td>\n",
       "      <td>2,761</td>\n",
       "      <td>2,842</td>\n",
       "      <td>...</td>\n",
       "      <td>11,393</td>\n",
       "      <td>11,865</td>\n",
       "      <td>13,055</td>\n",
       "      <td>15,202</td>\n",
       "      <td>15,960</td>\n",
       "      <td>17,210</td>\n",
       "      <td>18,602</td>\n",
       "      <td>20,199</td>\n",
       "      <td>21,790</td>\n",
       "      <td>23,472</td>\n",
       "    </tr>\n",
       "    <tr>\n",
       "      <th>2</th>\n",
       "      <td>Algeria</td>\n",
       "      <td>5,167</td>\n",
       "      <td>5,376</td>\n",
       "      <td>7,193</td>\n",
       "      <td>9,250</td>\n",
       "      <td>13,290</td>\n",
       "      <td>15,591</td>\n",
       "      <td>17,790</td>\n",
       "      <td>21,038</td>\n",
       "      <td>26,433</td>\n",
       "      <td>...</td>\n",
       "      <td>164,779</td>\n",
       "      <td>159,049</td>\n",
       "      <td>167,555</td>\n",
       "      <td>180,441</td>\n",
       "      <td>183,687</td>\n",
       "      <td>193,056</td>\n",
       "      <td>199,917</td>\n",
       "      <td>208,589</td>\n",
       "      <td>216,389</td>\n",
       "      <td>204,536</td>\n",
       "    </tr>\n",
       "  </tbody>\n",
       "</table>\n",
       "<p>3 rows × 56 columns</p>\n",
       "</div>"
      ],
      "text/plain": [
       "  Country (or dependent territory)   1970   1971   1972   1973    1974  \\\n",
       "0                      Afghanistan  1,749  1,831  1,596  1,733   2,156   \n",
       "1                          Albania  2,266  2,331  2,398  2,467   2,537   \n",
       "2                          Algeria  5,167  5,376  7,193  9,250  13,290   \n",
       "\n",
       "     1975    1976    1977    1978  ...     2015     2016     2017     2018  \\\n",
       "0   2,367   2,556   2,953   3,300  ...   19,687   19,454   20,235   19,585   \n",
       "1   2,610   2,686   2,761   2,842  ...   11,393   11,865   13,055   15,202   \n",
       "2  15,591  17,790  21,038  26,433  ...  164,779  159,049  167,555  180,441   \n",
       "\n",
       "      2019     2020     2021     2022     2023     2024  \n",
       "0   19,990   20,682   21,928   23,577   25,450   27,608  \n",
       "1   15,960   17,210   18,602   20,199   21,790   23,472  \n",
       "2  183,687  193,056  199,917  208,589  216,389  204,536  \n",
       "\n",
       "[3 rows x 56 columns]"
      ]
     },
     "execution_count": 11,
     "metadata": {},
     "output_type": "execute_result"
    }
   ],
   "source": [
    "# show first 3 rows\n",
    "df3.head(3)"
   ]
  },
  {
   "cell_type": "code",
   "execution_count": 12,
   "metadata": {},
   "outputs": [],
   "source": [
    "# cast string to float\n",
    "def cast(df):\n",
    "    # Country alias\n",
    "    df = df.rename(columns={\"Country (or dependent territory)\": \"Country\"})\n",
    "    # cast string to float\n",
    "    for col in df.columns.tolist()[1:]:\n",
    "        df[col].replace(to_replace=r',', value=r'', regex=True, inplace=True)   \n",
    "        df.loc[(df[col] == ''),col] = 0\n",
    "        df[col] = df[col].astype(float)\n",
    "        pass\n",
    "    return df"
   ]
  },
  {
   "cell_type": "code",
   "execution_count": 13,
   "metadata": {},
   "outputs": [],
   "source": [
    "df3 = cast(df3)"
   ]
  },
  {
   "cell_type": "code",
   "execution_count": 14,
   "metadata": {},
   "outputs": [
    {
     "data": {
      "text/html": [
       "<div>\n",
       "<style scoped>\n",
       "    .dataframe tbody tr th:only-of-type {\n",
       "        vertical-align: middle;\n",
       "    }\n",
       "\n",
       "    .dataframe tbody tr th {\n",
       "        vertical-align: top;\n",
       "    }\n",
       "\n",
       "    .dataframe thead th {\n",
       "        text-align: right;\n",
       "    }\n",
       "</style>\n",
       "<table border=\"1\" class=\"dataframe\">\n",
       "  <thead>\n",
       "    <tr style=\"text-align: right;\">\n",
       "      <th></th>\n",
       "      <th>Country</th>\n",
       "      <th>1970</th>\n",
       "      <th>1971</th>\n",
       "      <th>1972</th>\n",
       "      <th>1973</th>\n",
       "      <th>1974</th>\n",
       "      <th>1975</th>\n",
       "      <th>1976</th>\n",
       "      <th>1977</th>\n",
       "      <th>1978</th>\n",
       "      <th>...</th>\n",
       "      <th>2015</th>\n",
       "      <th>2016</th>\n",
       "      <th>2017</th>\n",
       "      <th>2018</th>\n",
       "      <th>2019</th>\n",
       "      <th>2020</th>\n",
       "      <th>2021</th>\n",
       "      <th>2022</th>\n",
       "      <th>2023</th>\n",
       "      <th>2024</th>\n",
       "    </tr>\n",
       "  </thead>\n",
       "  <tbody>\n",
       "    <tr>\n",
       "      <th>0</th>\n",
       "      <td>Afghanistan</td>\n",
       "      <td>1749.0</td>\n",
       "      <td>1831.0</td>\n",
       "      <td>1596.0</td>\n",
       "      <td>1733.0</td>\n",
       "      <td>2156.0</td>\n",
       "      <td>2367.0</td>\n",
       "      <td>2556.0</td>\n",
       "      <td>2953.0</td>\n",
       "      <td>3300.0</td>\n",
       "      <td>...</td>\n",
       "      <td>19687.0</td>\n",
       "      <td>19454.0</td>\n",
       "      <td>20235.0</td>\n",
       "      <td>19585.0</td>\n",
       "      <td>19990.0</td>\n",
       "      <td>20682.0</td>\n",
       "      <td>21928.0</td>\n",
       "      <td>23577.0</td>\n",
       "      <td>25450.0</td>\n",
       "      <td>27608.0</td>\n",
       "    </tr>\n",
       "    <tr>\n",
       "      <th>1</th>\n",
       "      <td>Albania</td>\n",
       "      <td>2266.0</td>\n",
       "      <td>2331.0</td>\n",
       "      <td>2398.0</td>\n",
       "      <td>2467.0</td>\n",
       "      <td>2537.0</td>\n",
       "      <td>2610.0</td>\n",
       "      <td>2686.0</td>\n",
       "      <td>2761.0</td>\n",
       "      <td>2842.0</td>\n",
       "      <td>...</td>\n",
       "      <td>11393.0</td>\n",
       "      <td>11865.0</td>\n",
       "      <td>13055.0</td>\n",
       "      <td>15202.0</td>\n",
       "      <td>15960.0</td>\n",
       "      <td>17210.0</td>\n",
       "      <td>18602.0</td>\n",
       "      <td>20199.0</td>\n",
       "      <td>21790.0</td>\n",
       "      <td>23472.0</td>\n",
       "    </tr>\n",
       "    <tr>\n",
       "      <th>2</th>\n",
       "      <td>Algeria</td>\n",
       "      <td>5167.0</td>\n",
       "      <td>5376.0</td>\n",
       "      <td>7193.0</td>\n",
       "      <td>9250.0</td>\n",
       "      <td>13290.0</td>\n",
       "      <td>15591.0</td>\n",
       "      <td>17790.0</td>\n",
       "      <td>21038.0</td>\n",
       "      <td>26433.0</td>\n",
       "      <td>...</td>\n",
       "      <td>164779.0</td>\n",
       "      <td>159049.0</td>\n",
       "      <td>167555.0</td>\n",
       "      <td>180441.0</td>\n",
       "      <td>183687.0</td>\n",
       "      <td>193056.0</td>\n",
       "      <td>199917.0</td>\n",
       "      <td>208589.0</td>\n",
       "      <td>216389.0</td>\n",
       "      <td>204536.0</td>\n",
       "    </tr>\n",
       "  </tbody>\n",
       "</table>\n",
       "<p>3 rows × 56 columns</p>\n",
       "</div>"
      ],
      "text/plain": [
       "       Country    1970    1971    1972    1973     1974     1975     1976  \\\n",
       "0  Afghanistan  1749.0  1831.0  1596.0  1733.0   2156.0   2367.0   2556.0   \n",
       "1      Albania  2266.0  2331.0  2398.0  2467.0   2537.0   2610.0   2686.0   \n",
       "2      Algeria  5167.0  5376.0  7193.0  9250.0  13290.0  15591.0  17790.0   \n",
       "\n",
       "      1977     1978  ...      2015      2016      2017      2018      2019  \\\n",
       "0   2953.0   3300.0  ...   19687.0   19454.0   20235.0   19585.0   19990.0   \n",
       "1   2761.0   2842.0  ...   11393.0   11865.0   13055.0   15202.0   15960.0   \n",
       "2  21038.0  26433.0  ...  164779.0  159049.0  167555.0  180441.0  183687.0   \n",
       "\n",
       "       2020      2021      2022      2023      2024  \n",
       "0   20682.0   21928.0   23577.0   25450.0   27608.0  \n",
       "1   17210.0   18602.0   20199.0   21790.0   23472.0  \n",
       "2  193056.0  199917.0  208589.0  216389.0  204536.0  \n",
       "\n",
       "[3 rows x 56 columns]"
      ]
     },
     "execution_count": 14,
     "metadata": {},
     "output_type": "execute_result"
    }
   ],
   "source": [
    "# show 3 rows after vasting\n",
    "df3.head(3)"
   ]
  },
  {
   "cell_type": "markdown",
   "metadata": {},
   "source": [
    "<font color=\"blue\" size=\"4\">\n",
    "<p>Conclusion: from the code above, we know that GDP Dataset is scratched from the internet by ourselves, it's format is object (string), it's not what we need, so we cast it into float.</p>\n",
    "</font>"
   ]
  },
  {
   "cell_type": "markdown",
   "metadata": {},
   "source": [
    "### 3. Building  Dataset"
   ]
  },
  {
   "cell_type": "markdown",
   "metadata": {},
   "source": [
    "<font color=\"blue\" size=\"4\">\n",
    "Our Dataset has three sources: Movies Dataset (downloaded from Kaggle), Directors Dataset (scratched from Internet), GDP Dataset (scratched from Internet).\n",
    "<p>We use Director's Name as the key to union Movies Dataset and Directors Dataset</p>\n",
    "<p>We use Country Name as the key to union Movies Datsset and GDP Dataset</p>\n",
    "</font>"
   ]
  },
  {
   "cell_type": "code",
   "execution_count": 15,
   "metadata": {},
   "outputs": [],
   "source": [
    "# TODO: NAME Normalize if need\n",
    "\n",
    "def normalize_country(df):\n",
    "    \"\"\"\n",
    "    Normalize the country name\n",
    "    \"\"\"\n",
    "    df.loc[df['country'] == 'USA', 'country'] = 'United States'\n",
    "    df.loc[df['country'] == 'UK', 'country']  = 'United Kingdom'\n",
    "    df.loc[df['country'] == 'West Germany', 'country'] = 'Germany'\n",
    "    df.loc[df['country'] == 'Republic of Macedonia', 'country'] = 'Macedonia'\n",
    "    df.loc[df['country'] == 'Federal Republic of Yugoslavia', 'country'] = 'Yugoslavia'\n",
    "    \n",
    "    return df"
   ]
  },
  {
   "cell_type": "code",
   "execution_count": 16,
   "metadata": {},
   "outputs": [],
   "source": [
    "df1 = normalize_country(df1)\n",
    "df2 = df2.rename(columns=str.lower)\n",
    "df3 = df3.rename(columns=str.lower)"
   ]
  },
  {
   "cell_type": "code",
   "execution_count": 17,
   "metadata": {},
   "outputs": [],
   "source": [
    "res1 = pd.merge(df1, df2, on='director', how='inner')"
   ]
  },
  {
   "cell_type": "code",
   "execution_count": 18,
   "metadata": {},
   "outputs": [],
   "source": [
    "result = pd.merge(res1, df3, on='country', how='inner')"
   ]
  },
  {
   "cell_type": "code",
   "execution_count": 19,
   "metadata": {},
   "outputs": [
    {
     "name": "stdout",
     "output_type": "stream",
     "text": [
      "(3177, 22) (3177, 77)\n"
     ]
    }
   ],
   "source": [
    "print(res1.shape, result.shape)"
   ]
  },
  {
   "cell_type": "code",
   "execution_count": 20,
   "metadata": {},
   "outputs": [
    {
     "name": "stdout",
     "output_type": "stream",
     "text": [
      "(6820, 15)\n"
     ]
    }
   ],
   "source": [
    "print(df1.shape)"
   ]
  },
  {
   "cell_type": "code",
   "execution_count": 21,
   "metadata": {},
   "outputs": [],
   "source": [
    "result.to_csv('my_dataset.csv', index=False)"
   ]
  },
  {
   "cell_type": "code",
   "execution_count": 22,
   "metadata": {},
   "outputs": [
    {
     "data": {
      "text/plain": [
       "['United States',\n",
       " 'Germany',\n",
       " 'France',\n",
       " 'United Kingdom',\n",
       " 'Canada',\n",
       " 'Australia',\n",
       " 'Austria',\n",
       " 'South Africa',\n",
       " 'Ireland',\n",
       " 'Czech Republic',\n",
       " 'Spain',\n",
       " 'Sweden',\n",
       " 'China',\n",
       " 'Switzerland',\n",
       " 'Italy',\n",
       " 'Netherlands',\n",
       " 'Japan',\n",
       " 'New Zealand',\n",
       " 'Denmark',\n",
       " 'Portugal',\n",
       " 'Russia',\n",
       " 'Yugoslavia',\n",
       " 'India',\n",
       " 'Iran',\n",
       " 'Hong Kong',\n",
       " 'Brazil',\n",
       " 'Argentina',\n",
       " 'Taiwan',\n",
       " 'Mexico',\n",
       " 'Peru',\n",
       " 'Macedonia',\n",
       " 'Malta',\n",
       " 'Romania',\n",
       " 'Belgium',\n",
       " 'Thailand',\n",
       " 'Indonesia']"
      ]
     },
     "execution_count": 22,
     "metadata": {},
     "output_type": "execute_result"
    }
   ],
   "source": [
    "result['country'].unique().tolist()"
   ]
  },
  {
   "cell_type": "code",
   "execution_count": 23,
   "metadata": {},
   "outputs": [
    {
     "data": {
      "text/plain": [
       "Index(['budget', 'company', 'country', 'director', 'genre', 'gross', 'name',\n",
       "       'rating', 'released', 'runtime', 'score', 'star', 'votes', 'writer',\n",
       "       'year', 'education', 'year active', 'birth day', 'birth place', 'roles',\n",
       "       'died', 'link', '1970', '1971', '1972', '1973', '1974', '1975', '1976',\n",
       "       '1977', '1978', '1979', '1980', '1981', '1982', '1983', '1984', '1985',\n",
       "       '1986', '1987', '1988', '1989', '1990', '1991', '1992', '1993', '1994',\n",
       "       '1995', '1996', '1997', '1998', '1999', '2000', '2001', '2002', '2003',\n",
       "       '2004', '2005', '2006', '2007', '2008', '2009', '2010', '2011', '2012',\n",
       "       '2013', '2014', '2015', '2016', '2017', '2018', '2019', '2020', '2021',\n",
       "       '2022', '2023', '2024'],\n",
       "      dtype='object')"
      ]
     },
     "execution_count": 23,
     "metadata": {},
     "output_type": "execute_result"
    }
   ],
   "source": [
    "result.columns"
   ]
  },
  {
   "cell_type": "code",
   "execution_count": 24,
   "metadata": {},
   "outputs": [],
   "source": [
    "gdp_years = ['1970', '1971', '1972', '1973', '1974', '1975', '1976',\n",
    "       '1977', '1978', '1979', '1980', '1981', '1982', '1983', '1984', '1985',\n",
    "       '1986', '1987', '1988', '1989', '1990', '1991', '1992', '1993', '1994',\n",
    "       '1995', '1996', '1997', '1998', '1999', '2000', '2001', '2002', '2003',\n",
    "       '2004', '2005', '2006', '2007', '2008', '2009', '2010', '2011', '2012',\n",
    "       '2013', '2014', '2015', '2016', '2017', '2018', '2019', '2020', '2021',\n",
    "       '2022', '2023', '2024']"
   ]
  },
  {
   "cell_type": "code",
   "execution_count": 25,
   "metadata": {},
   "outputs": [
    {
     "data": {
      "text/plain": [
       "0       1.016453e+07\n",
       "1       1.016453e+07\n",
       "2       1.016453e+07\n",
       "3       1.016453e+07\n",
       "4       1.016453e+07\n",
       "            ...     \n",
       "3172    2.905727e+05\n",
       "3173    2.905727e+05\n",
       "3174    2.030384e+05\n",
       "3175    4.191910e+05\n",
       "3176    4.191910e+05\n",
       "Length: 3177, dtype: float64"
      ]
     },
     "execution_count": 25,
     "metadata": {},
     "output_type": "execute_result"
    }
   ],
   "source": [
    "result[gdp_years].mean(axis=1)"
   ]
  },
  {
   "cell_type": "code",
   "execution_count": 26,
   "metadata": {},
   "outputs": [],
   "source": [
    "import matplotlib.pyplot as plt"
   ]
  },
  {
   "cell_type": "code",
   "execution_count": 27,
   "metadata": {},
   "outputs": [
    {
     "data": {
      "text/plain": [
       "Text(0.5, 1.0, 'GDP Distribution (1970-2024)')"
      ]
     },
     "execution_count": 27,
     "metadata": {},
     "output_type": "execute_result"
    },
    {
     "data": {
      "image/png": "[encoded data removed]",
      "text/plain": [
       "<Figure size 432x288 with 1 Axes>"
      ]
     },
     "metadata": {
      "needs_background": "light"
     },
     "output_type": "display_data"
    }
   ],
   "source": [
    "plt.plot(result[gdp_years].mean(axis=1).unique(), '*')\n",
    "plt.xlabel(\"Country lables\")\n",
    "plt.ylabel(\"mean GDP (1970-2024)\")\n",
    "plt.title(\"GDP Distribution (1970-2024)\")"
   ]
  },
  {
   "cell_type": "code",
   "execution_count": 28,
   "metadata": {},
   "outputs": [
    {
     "data": {
      "text/plain": [
       "Text(0.5, 1.0, 'GDP Distribution (1998)')"
      ]
     },
     "execution_count": 28,
     "metadata": {},
     "output_type": "execute_result"
    },
    {
     "data": {
      "image/png": "[encoded data removed]",
      "text/plain": [
       "<Figure size 432x288 with 1 Axes>"
      ]
     },
     "metadata": {
      "needs_background": "light"
     },
     "output_type": "display_data"
    }
   ],
   "source": [
    "plt.plot(result[\"1998\"].unique(), '*')\n",
    "plt.xlabel(\"Country lables\")\n",
    "plt.ylabel(\"GDP (1988)\")\n",
    "plt.title(\"GDP Distribution (1998)\")"
   ]
  },
  {
   "cell_type": "code",
   "execution_count": 29,
   "metadata": {},
   "outputs": [
    {
     "data": {
      "text/plain": [
       "Text(0.5, 1.0, 'GDP Distribution (2019)')"
      ]
     },
     "execution_count": 29,
     "metadata": {},
     "output_type": "execute_result"
    },
    {
     "data": {
      "image/png": "[encoded data removed]",
      "text/plain": [
       "<Figure size 432x288 with 1 Axes>"
      ]
     },
     "metadata": {
      "needs_background": "light"
     },
     "output_type": "display_data"
    }
   ],
   "source": [
    "plt.plot(result[\"2019\"].unique(), '*')\n",
    "plt.xlabel(\"Country lables\")\n",
    "plt.ylabel(\"GDP (2019)\")\n",
    "plt.title(\"GDP Distribution (2019)\")"
   ]
  },
  {
   "cell_type": "code",
   "execution_count": 30,
   "metadata": {},
   "outputs": [
    {
     "data": {
      "text/plain": [
       "[<matplotlib.lines.Line2D at 0x2a2c4069ac0>]"
      ]
     },
     "execution_count": 30,
     "metadata": {},
     "output_type": "execute_result"
    },
    {
     "data": {
      "image/png": "[encoded data removed]",
      "text/plain": [
       "<Figure size 432x288 with 1 Axes>"
      ]
     },
     "metadata": {
      "needs_background": "light"
     },
     "output_type": "display_data"
    }
   ],
   "source": [
    "plt.plot(result[\"gross\"], '*')"
   ]
  },
  {
   "cell_type": "code",
   "execution_count": 31,
   "metadata": {},
   "outputs": [
    {
     "data": {
      "text/plain": [
       "[<matplotlib.lines.Line2D at 0x2a2c40c3a00>]"
      ]
     },
     "execution_count": 31,
     "metadata": {},
     "output_type": "execute_result"
    },
    {
     "data": {
      "image/png": "[encoded data removed]",
      "text/plain": [
       "<Figure size 432x288 with 1 Axes>"
      ]
     },
     "metadata": {
      "needs_background": "light"
     },
     "output_type": "display_data"
    }
   ],
   "source": [
    "plt.plot(result[\"budget\"], '*')"
   ]
  },
  {
   "cell_type": "code",
   "execution_count": 32,
   "metadata": {},
   "outputs": [
    {
     "data": {
      "text/plain": [
       "[<matplotlib.lines.Line2D at 0x2a2c50f15b0>]"
      ]
     },
     "execution_count": 32,
     "metadata": {},
     "output_type": "execute_result"
    },
    {
     "data": {
      "image/png": "[encoded data removed]",
      "text/plain": [
       "<Figure size 432x288 with 1 Axes>"
      ]
     },
     "metadata": {
      "needs_background": "light"
     },
     "output_type": "display_data"
    }
   ],
   "source": [
    "plt.plot(result[\"budget\"], result[\"gross\"], '*')"
   ]
  },
  {
   "cell_type": "code",
   "execution_count": 33,
   "metadata": {},
   "outputs": [
    {
     "data": {
      "text/plain": [
       "[<matplotlib.lines.Line2D at 0x2a2c514c490>]"
      ]
     },
     "execution_count": 33,
     "metadata": {},
     "output_type": "execute_result"
    },
    {
     "data": {
      "image/png": "[encoded data removed]",
      "text/plain": [
       "<Figure size 432x288 with 1 Axes>"
      ]
     },
     "metadata": {
      "needs_background": "light"
     },
     "output_type": "display_data"
    }
   ],
   "source": [
    "plt.plot(result[\"runtime\"],'*')"
   ]
  },
  {
   "cell_type": "code",
   "execution_count": 34,
   "metadata": {},
   "outputs": [
    {
     "data": {
      "text/plain": [
       "[<matplotlib.lines.Line2D at 0x2a2c5199100>]"
      ]
     },
     "execution_count": 34,
     "metadata": {},
     "output_type": "execute_result"
    },
    {
     "data": {
      "image/png": "[encoded data removed]",
      "text/plain": [
       "<Figure size 432x288 with 1 Axes>"
      ]
     },
     "metadata": {
      "needs_background": "light"
     },
     "output_type": "display_data"
    }
   ],
   "source": [
    "plt.plot(result[\"runtime\"], result[\"gross\"], '*')"
   ]
  },
  {
   "cell_type": "code",
   "execution_count": 35,
   "metadata": {},
   "outputs": [
    {
     "data": {
      "text/plain": [
       "[<matplotlib.lines.Line2D at 0x2a2c51e7070>]"
      ]
     },
     "execution_count": 35,
     "metadata": {},
     "output_type": "execute_result"
    },
    {
     "data": {
      "image/png": "[encoded data removed]",
      "text/plain": [
       "<Figure size 432x288 with 1 Axes>"
      ]
     },
     "metadata": {
      "needs_background": "light"
     },
     "output_type": "display_data"
    }
   ],
   "source": [
    "plt.plot(result[\"score\"], '*')"
   ]
  },
  {
   "cell_type": "code",
   "execution_count": 36,
   "metadata": {},
   "outputs": [
    {
     "data": {
      "text/plain": [
       "[<matplotlib.lines.Line2D at 0x2a2c52430a0>]"
      ]
     },
     "execution_count": 36,
     "metadata": {},
     "output_type": "execute_result"
    },
    {
     "data": {
      "image/png": "[encoded data removed]",
      "text/plain": [
       "<Figure size 432x288 with 1 Axes>"
      ]
     },
     "metadata": {
      "needs_background": "light"
     },
     "output_type": "display_data"
    }
   ],
   "source": [
    "plt.plot(result[\"score\"], result[\"gross\"], '*')"
   ]
  },
  {
   "cell_type": "code",
   "execution_count": 37,
   "metadata": {},
   "outputs": [
    {
     "data": {
      "text/plain": [
       "[<matplotlib.lines.Line2D at 0x2a2c529a3d0>]"
      ]
     },
     "execution_count": 37,
     "metadata": {},
     "output_type": "execute_result"
    },
    {
     "data": {
      "image/png": "[encoded data removed]",
      "text/plain": [
       "<Figure size 432x288 with 1 Axes>"
      ]
     },
     "metadata": {
      "needs_background": "light"
     },
     "output_type": "display_data"
    }
   ],
   "source": [
    "plt.plot(result[\"votes\"], result[\"gross\"], '*')"
   ]
  },
  {
   "cell_type": "code",
   "execution_count": 38,
   "metadata": {},
   "outputs": [
    {
     "data": {
      "text/plain": [
       "[<matplotlib.lines.Line2D at 0x2a2c52f4550>]"
      ]
     },
     "execution_count": 38,
     "metadata": {},
     "output_type": "execute_result"
    },
    {
     "data": {
      "image/png": "[encoded data removed]",
      "text/plain": [
       "<Figure size 432x288 with 1 Axes>"
      ]
     },
     "metadata": {
      "needs_background": "light"
     },
     "output_type": "display_data"
    }
   ],
   "source": [
    "plt.plot(result[\"votes\"].unique(), '*')"
   ]
  },
  {
   "cell_type": "code",
   "execution_count": 39,
   "metadata": {},
   "outputs": [
    {
     "data": {
      "text/plain": [
       "[<matplotlib.lines.Line2D at 0x2a2c534d580>]"
      ]
     },
     "execution_count": 39,
     "metadata": {},
     "output_type": "execute_result"
    },
    {
     "data": {
      "image/png": "[encoded data removed]",
      "text/plain": [
       "<Figure size 432x288 with 1 Axes>"
      ]
     },
     "metadata": {
      "needs_background": "light"
     },
     "output_type": "display_data"
    }
   ],
   "source": [
    "plt.plot(result[\"year\"], result[\"gross\"], '*')"
   ]
  },
  {
   "cell_type": "code",
   "execution_count": 40,
   "metadata": {},
   "outputs": [
    {
     "data": {
      "text/plain": [
       "[<matplotlib.lines.Line2D at 0x2a2c53a91c0>]"
      ]
     },
     "execution_count": 40,
     "metadata": {},
     "output_type": "execute_result"
    },
    {
     "data": {
      "image/png": "[encoded data removed]",
      "text/plain": [
       "<Figure size 432x288 with 1 Axes>"
      ]
     },
     "metadata": {
      "needs_background": "light"
     },
     "output_type": "display_data"
    }
   ],
   "source": [
    "plt.plot(result[\"year\"], '*')"
   ]
  },
  {
   "cell_type": "code",
   "execution_count": 41,
   "metadata": {},
   "outputs": [
    {
     "data": {
      "text/plain": [
       "['Stand by Me',\n",
       " 'The Princess Bride',\n",
       " 'When Harry Met Sally...',\n",
       " 'Misery',\n",
       " 'A Few Good Men',\n",
       " 'North',\n",
       " 'The American President',\n",
       " 'Ghosts of Mississippi',\n",
       " 'The Story of Us',\n",
       " 'Alex & Emma',\n",
       " 'Rumor Has It...',\n",
       " 'The Bucket List',\n",
       " 'Flipped',\n",
       " 'The Magic of Belle Isle',\n",
       " 'And So It Goes',\n",
       " \"Ferris Bueller's Day Off\",\n",
       " 'Planes, Trains & Automobiles',\n",
       " \"She's Having a Baby\",\n",
       " 'Uncle Buck',\n",
       " 'Curly Sue',\n",
       " 'Top Gun',\n",
       " 'Beverly Hills Cop II',\n",
       " 'Days of Thunder',\n",
       " 'Revenge',\n",
       " 'The Last Boy Scout',\n",
       " 'True Romance',\n",
       " 'Crimson Tide',\n",
       " 'The Fan',\n",
       " 'Enemy of the State',\n",
       " 'Man on Fire',\n",
       " 'Deja Vu',\n",
       " 'The Taking of Pelham 123',\n",
       " 'Unstoppable',\n",
       " 'Aliens',\n",
       " 'The Abyss',\n",
       " 'Terminator 2: Judgment Day',\n",
       " 'True Lies',\n",
       " 'Titanic',\n",
       " 'Flight of the Navigator',\n",
       " 'Big Top Pee-wee',\n",
       " 'White Fang',\n",
       " 'Honey I Blew Up the Kid',\n",
       " \"It's My Party\",\n",
       " 'Lovewrecked',\n",
       " 'Wall Street',\n",
       " 'Talk Radio',\n",
       " 'Born on the Fourth of July',\n",
       " 'The Doors',\n",
       " 'Natural Born Killers',\n",
       " 'Nixon',\n",
       " 'Any Given Sunday',\n",
       " 'World Trade Center',\n",
       " 'W.',\n",
       " 'Wall Street: Money Never Sleeps',\n",
       " 'Savages',\n",
       " 'Blue Velvet',\n",
       " 'Wild at Heart',\n",
       " 'Twin Peaks: Fire Walk with Me',\n",
       " 'Pretty in Pink',\n",
       " 'Some Kind of Wonderful',\n",
       " 'The Great Outdoors',\n",
       " 'Article 99',\n",
       " 'Getting Even with Dad',\n",
       " 'Grumpier Old Men',\n",
       " 'The Odd Couple II',\n",
       " 'The Replacements',\n",
       " 'The Whole Ten Yards',\n",
       " \"My Best Friend's Girl\",\n",
       " 'The Fly',\n",
       " 'M. Butterfly',\n",
       " 'A History of Violence',\n",
       " 'Dutch',\n",
       " 'Ricochet',\n",
       " 'The Real McCoy',\n",
       " 'The Shadow',\n",
       " 'Lucas',\n",
       " 'Punchline',\n",
       " 'Shining Through',\n",
       " 'Big Trouble in Little China',\n",
       " 'Prince of Darkness',\n",
       " 'They Live',\n",
       " 'Memoirs of an Invisible Man',\n",
       " 'In the Mouth of Madness',\n",
       " 'Village of the Damned',\n",
       " 'Escape from L.A.',\n",
       " 'Vampires',\n",
       " 'Ghosts of Mars',\n",
       " 'Manhunter',\n",
       " 'The Last of the Mohicans',\n",
       " 'Heat',\n",
       " 'The Insider',\n",
       " 'Ali',\n",
       " 'Collateral',\n",
       " 'Miami Vice',\n",
       " 'Public Enemies',\n",
       " 'Blackhat',\n",
       " '9½ Weeks',\n",
       " 'Fatal Attraction',\n",
       " \"Jacob's Ladder\",\n",
       " 'Indecent Proposal',\n",
       " 'Lolita',\n",
       " 'Unfaithful',\n",
       " 'Maximum Overdrive',\n",
       " 'Little Shop of Horrors',\n",
       " 'Dirty Rotten Scoundrels',\n",
       " 'What About Bob?',\n",
       " 'HouseSitter',\n",
       " 'The Indian in the Cupboard',\n",
       " 'In & Out',\n",
       " 'Bowfinger',\n",
       " 'The Score',\n",
       " 'The Stepford Wives',\n",
       " 'Death at a Funeral',\n",
       " 'Howard the Duck',\n",
       " 'Critters',\n",
       " \"Bill & Ted's Excellent Adventure\",\n",
       " \"Don't Tell Mom the Babysitter's Dead\",\n",
       " 'The Mighty Ducks',\n",
       " \"Mr. Holland's Opus\",\n",
       " '101 Dalmatians',\n",
       " 'Holy Man',\n",
       " 'Rock Star',\n",
       " 'Life or Something Like It',\n",
       " 'Man of the House',\n",
       " 'The Texas Chainsaw Massacre 2',\n",
       " 'Invaders from Mars',\n",
       " 'Heartbreak Ridge',\n",
       " 'Bird',\n",
       " 'The Rookie',\n",
       " 'White Hunter Black Heart',\n",
       " 'Unforgiven',\n",
       " 'A Perfect World',\n",
       " 'The Bridges of Madison County',\n",
       " 'Absolute Power',\n",
       " 'Midnight in the Garden of Good and Evil',\n",
       " 'True Crime',\n",
       " 'Space Cowboys',\n",
       " 'Blood Work',\n",
       " 'Mystic River',\n",
       " 'Million Dollar Baby',\n",
       " 'Letters from Iwo Jima',\n",
       " 'Flags of our Fathers',\n",
       " 'Changeling',\n",
       " 'Invictus',\n",
       " 'Hereafter',\n",
       " 'J. Edgar',\n",
       " 'American Sniper',\n",
       " 'Jersey Boys',\n",
       " 'Sully',\n",
       " 'Star Trek IV: The Voyage Home',\n",
       " '3 Men and a Baby',\n",
       " 'The Good Mother',\n",
       " 'Funny About Love',\n",
       " 'Holy Matrimony',\n",
       " 'Short Circuit',\n",
       " 'Stakeout',\n",
       " 'Bird on a Wire',\n",
       " 'The Hard Way',\n",
       " 'Point of No Return',\n",
       " 'Another Stakeout',\n",
       " 'Drop Zone',\n",
       " 'Nick of Time',\n",
       " 'Iron Eagle',\n",
       " 'The Taking of Beverly Hills',\n",
       " 'Ladybugs',\n",
       " 'The Golden Child',\n",
       " 'Wildcats',\n",
       " 'The Couch Trip',\n",
       " 'Fletch Lives',\n",
       " 'Diggstown',\n",
       " 'The Scout',\n",
       " 'Cops and Robbersons',\n",
       " 'The Fantasticks',\n",
       " 'A Simple Wish',\n",
       " '¡Three Amigos!',\n",
       " 'Coming to America',\n",
       " 'Oscar',\n",
       " 'Innocent Blood',\n",
       " 'Beverly Hills Cop III',\n",
       " 'Blues Brothers 2000',\n",
       " 'The Color of Money',\n",
       " 'Goodfellas',\n",
       " 'Cape Fear',\n",
       " 'The Age of Innocence',\n",
       " 'Kundun',\n",
       " 'Bringing Out the Dead',\n",
       " 'Gangs of New York',\n",
       " 'The Departed',\n",
       " 'Shutter Island',\n",
       " 'Hugo',\n",
       " 'The Wolf of Wall Street',\n",
       " 'Silence',\n",
       " 'The Karate Kid Part II',\n",
       " 'For Keeps?',\n",
       " 'The Karate Kid Part III',\n",
       " 'Lean on Me',\n",
       " 'Rocky V',\n",
       " '8 Seconds',\n",
       " 'The Money Pit',\n",
       " 'My Stepmother Is an Alien',\n",
       " 'Little Nikita',\n",
       " 'Mermaids',\n",
       " 'Downtown',\n",
       " 'Made in America',\n",
       " 'Milk Money',\n",
       " 'Mrs. Winterbourne',\n",
       " 'The Mosquito Coast',\n",
       " 'Dead Poets Society',\n",
       " 'Fearless',\n",
       " 'The Truman Show',\n",
       " 'Master and Commander: The Far Side of the World',\n",
       " 'The Way Back',\n",
       " 'An American Tail',\n",
       " 'The Land Before Time',\n",
       " 'Anastasia',\n",
       " 'Titan A.E.',\n",
       " 'Walker',\n",
       " 'King Kong Lives',\n",
       " 'From Beyond',\n",
       " 'Robot Jox',\n",
       " 'The Pit and the Pendulum',\n",
       " 'Peggy Sue Got Married',\n",
       " 'Gardens of Stone',\n",
       " 'Tucker: The Man and His Dream',\n",
       " 'The Godfather: Part III',\n",
       " \"Bram Stoker's Dracula\",\n",
       " 'Jack',\n",
       " 'The Rainmaker',\n",
       " 'Youth Without Youth',\n",
       " 'Tetro',\n",
       " 'Troll',\n",
       " 'Friday the 13th Part VII: The New Blood',\n",
       " 'Running Scared',\n",
       " 'The Presidio',\n",
       " 'Narrow Margin',\n",
       " 'Stay Tuned',\n",
       " 'Sudden Death',\n",
       " 'End of Days',\n",
       " 'Beyond a Reasonable Doubt',\n",
       " 'Henry: Portrait of a Serial Killer',\n",
       " 'Mad Dog and Glory',\n",
       " 'Wild Things',\n",
       " 'Hannah and Her Sisters',\n",
       " 'Radio Days',\n",
       " 'September',\n",
       " 'Another Woman',\n",
       " 'Crimes and Misdemeanors',\n",
       " 'New York Stories',\n",
       " 'Alice',\n",
       " 'Shadows and Fog',\n",
       " 'Husbands and Wives',\n",
       " 'Manhattan Murder Mystery',\n",
       " 'Bullets Over Broadway',\n",
       " 'Mighty Aphrodite',\n",
       " 'Everyone Says I Love You',\n",
       " 'Deconstructing Harry',\n",
       " 'Celebrity',\n",
       " 'Sweet and Lowdown',\n",
       " 'Small Time Crooks',\n",
       " 'The Curse of the Jade Scorpion',\n",
       " 'Hollywood Ending',\n",
       " 'Anything Else',\n",
       " 'Melinda and Melinda',\n",
       " \"Cassandra's Dream\",\n",
       " 'Whatever Works',\n",
       " 'You Will Meet a Tall Dark Stranger',\n",
       " 'To Rome with Love',\n",
       " 'Blue Jasmine',\n",
       " 'Magic in the Moonlight',\n",
       " 'Irrational Man',\n",
       " 'Café Society',\n",
       " 'The Great Mouse Detective',\n",
       " 'The Little Mermaid',\n",
       " 'Aladdin',\n",
       " 'Hercules',\n",
       " 'Treasure Planet',\n",
       " 'The Princess and the Frog',\n",
       " 'Moana',\n",
       " 'Raw Deal',\n",
       " 'Hamburger Hill',\n",
       " 'Next of Kin',\n",
       " 'City of Industry',\n",
       " 'Crossroads',\n",
       " 'Extreme Prejudice',\n",
       " 'Red Heat',\n",
       " 'Johnny Handsome',\n",
       " 'Another 48 Hrs.',\n",
       " 'Trespass',\n",
       " 'Geronimo: An American Legend',\n",
       " 'Wild Bill',\n",
       " 'Last Man Standing',\n",
       " 'Supernova',\n",
       " 'Undisputed',\n",
       " 'Bullet to the Head',\n",
       " 'At Close Range',\n",
       " \"Who's That Girl\",\n",
       " 'After Dark, My Sweet',\n",
       " 'Glengarry Glen Ross',\n",
       " 'Two Bits',\n",
       " 'Fear',\n",
       " 'The Chamber',\n",
       " 'The Corruptor',\n",
       " 'Confidence',\n",
       " 'Perfect Stranger',\n",
       " 'Heartburn',\n",
       " 'Working Girl',\n",
       " 'Biloxi Blues',\n",
       " 'Postcards from the Edge',\n",
       " 'Regarding Henry',\n",
       " 'Wolf',\n",
       " 'The Birdcage',\n",
       " 'What Planet Are You From?',\n",
       " 'Closer',\n",
       " \"Charlie Wilson's War\",\n",
       " 'The Delta Force',\n",
       " 'Over the Top',\n",
       " 'Deadly Friend',\n",
       " 'The Serpent and the Rainbow',\n",
       " 'Shocker',\n",
       " 'The People Under the Stairs',\n",
       " 'New Nightmare',\n",
       " 'Vampire in Brooklyn',\n",
       " 'Scream',\n",
       " 'Scream 2',\n",
       " 'Music of the Heart',\n",
       " 'Scream 3',\n",
       " 'Red Eye',\n",
       " 'My Soul to Take',\n",
       " 'Scream 4',\n",
       " 'About Last Night...',\n",
       " 'Glory',\n",
       " 'Leaving Normal',\n",
       " 'Legends of the Fall',\n",
       " 'Courage Under Fire',\n",
       " 'The Siege',\n",
       " 'The Last Samurai',\n",
       " 'Defiance',\n",
       " 'Love & Other Drugs',\n",
       " 'Pawn Sacrifice',\n",
       " 'One Crazy Summer',\n",
       " 'How I Got Into College',\n",
       " 'Trick or Treat',\n",
       " 'Fifty/Fifty',\n",
       " 'Air Bud',\n",
       " 'Gung Ho',\n",
       " 'Willow',\n",
       " 'Parenthood',\n",
       " 'Backdraft',\n",
       " 'Far and Away',\n",
       " 'The Paper',\n",
       " 'Apollo 13',\n",
       " 'Ransom',\n",
       " 'Edtv',\n",
       " 'How the Grinch Stole Christmas',\n",
       " 'A Beautiful Mind',\n",
       " 'The Missing',\n",
       " 'Cinderella Man',\n",
       " 'The Da Vinci Code',\n",
       " 'Frost/Nixon',\n",
       " 'Angels & Demons',\n",
       " 'The Dilemma',\n",
       " 'In the Heart of the Sea',\n",
       " 'Inferno',\n",
       " 'The Morning After',\n",
       " 'Power',\n",
       " 'Running on Empty',\n",
       " 'Family Business',\n",
       " 'Q & A',\n",
       " 'A Stranger Among Us',\n",
       " 'Guilty as Sin',\n",
       " 'Night Falls on Manhattan',\n",
       " 'Gloria',\n",
       " \"Before the Devil Knows You're Dead\",\n",
       " 'Police Academy 3: Back in Training',\n",
       " \"She's Gotta Have It\",\n",
       " 'School Daze',\n",
       " 'Do the Right Thing',\n",
       " \"Mo' Better Blues\",\n",
       " 'Jungle Fever',\n",
       " 'Malcolm X',\n",
       " 'Crooklyn',\n",
       " 'Clockers',\n",
       " 'Girl 6',\n",
       " 'He Got Game',\n",
       " 'Summer of Sam',\n",
       " 'Bamboozled',\n",
       " '25th Hour',\n",
       " 'She Hate Me',\n",
       " 'Inside Man',\n",
       " 'Miracle at St. Anna',\n",
       " 'Old Boy',\n",
       " 'Chi-Raq',\n",
       " 'Ruthless People',\n",
       " 'Big Business',\n",
       " 'Hot Shots!',\n",
       " 'Hot Shots! Part Deux',\n",
       " 'Mafia!',\n",
       " '52 Pick-Up',\n",
       " 'Dead Bang',\n",
       " 'The Fourth War',\n",
       " 'Year of the Gun',\n",
       " 'The Island of Dr. Moreau',\n",
       " 'Reindeer Games',\n",
       " 'Armed and Dangerous',\n",
       " 'Class of 1999',\n",
       " 'Showdown in Little Tokyo',\n",
       " 'Down by Law',\n",
       " 'Mystery Train',\n",
       " 'Dead Man',\n",
       " 'Coffee and Cigarettes',\n",
       " 'Broken Flowers',\n",
       " 'The Limits of Control',\n",
       " 'Paterson',\n",
       " 'Something Wild',\n",
       " 'Swimming to Cambodia',\n",
       " 'Married to the Mob',\n",
       " 'The Silence of the Lambs',\n",
       " 'Philadelphia',\n",
       " 'Beloved',\n",
       " 'The Manchurian Candidate',\n",
       " 'Rachel Getting Married',\n",
       " 'Ricki and the Flash',\n",
       " 'The Big Easy',\n",
       " 'Great Balls of Fire!',\n",
       " \"Jumpin' Jack Flash\",\n",
       " 'Big',\n",
       " 'Awakenings',\n",
       " 'A League of Their Own',\n",
       " 'Renaissance Man',\n",
       " \"The Preacher's Wife\",\n",
       " 'Riding in Cars with Boys',\n",
       " 'Frantic',\n",
       " 'The Best of Times',\n",
       " 'Shoot to Kill',\n",
       " 'Turner & Hooch',\n",
       " 'Air America',\n",
       " 'Stop! Or My Mom Will Shoot',\n",
       " 'The 6th Day',\n",
       " 'Down and Out in Beverly Hills',\n",
       " 'Moon Over Parador',\n",
       " 'Enemies: A Love Story',\n",
       " 'Scenes from a Mall',\n",
       " 'Whore',\n",
       " '8 Million Ways to Die',\n",
       " 'No Mercy',\n",
       " 'The Long Walk Home',\n",
       " 'Leap of Faith',\n",
       " 'Haunted Honeymoon',\n",
       " 'Allan Quatermain and the Lost City of Gold',\n",
       " \"We're No Angels\",\n",
       " 'Interview with the Vampire: The Vampire Chronicles',\n",
       " 'The Butcher Boy',\n",
       " 'In Dreams',\n",
       " 'The Brave One',\n",
       " 'Nothing in Common',\n",
       " 'Overboard',\n",
       " 'Beaches',\n",
       " 'Pretty Woman',\n",
       " 'Frankie and Johnny',\n",
       " 'Exit to Eden',\n",
       " 'Runaway Bride',\n",
       " 'The Other Sister',\n",
       " 'The Princess Diaries',\n",
       " 'The Princess Diaries 2: Royal Engagement',\n",
       " 'Raising Helen',\n",
       " 'Georgia Rule',\n",
       " \"Valentine's Day\",\n",
       " \"New Year's Eve\",\n",
       " \"Mother's Day\",\n",
       " 'Firewalker',\n",
       " \"Murphy's Law\",\n",
       " 'Death Wish 4: The Crackdown',\n",
       " 'Messenger of Death',\n",
       " 'Kinjite: Forbidden Subjects',\n",
       " 'Club Paradise',\n",
       " 'Groundhog Day',\n",
       " 'Multiplicity',\n",
       " 'Analyze This',\n",
       " 'Bedazzled',\n",
       " 'Analyze That',\n",
       " 'Year One',\n",
       " 'Legal Eagles',\n",
       " 'Twins',\n",
       " 'Ghostbusters II',\n",
       " 'Kindergarten Cop',\n",
       " 'Dave',\n",
       " 'Junior',\n",
       " \"Fathers' Day\",\n",
       " 'Six Days Seven Nights',\n",
       " 'Evolution',\n",
       " 'My Super Ex-Girlfriend',\n",
       " 'No Strings Attached',\n",
       " 'Draft Day',\n",
       " 'Wise Guys',\n",
       " 'The Untouchables',\n",
       " 'Casualties of War',\n",
       " 'The Bonfire of the Vanities',\n",
       " 'Raising Cain',\n",
       " \"Carlito's Way\",\n",
       " 'Mission: Impossible',\n",
       " 'Snake Eyes',\n",
       " 'Mission to Mars',\n",
       " 'Crimes of the Heart',\n",
       " 'Driving Miss Daisy',\n",
       " 'Her Alibi',\n",
       " 'Mister Johnson',\n",
       " 'Rich in Love',\n",
       " 'Silent Fall',\n",
       " 'Last Dance',\n",
       " 'Double Jeopardy',\n",
       " 'Peace, Love, & Misunderstanding',\n",
       " 'Mr. Church',\n",
       " 'Nomads',\n",
       " 'Predator',\n",
       " 'Die Hard',\n",
       " 'The Hunt for Red October',\n",
       " 'Medicine Man',\n",
       " 'Last Action Hero',\n",
       " 'Die Hard with a Vengeance',\n",
       " 'The Thomas Crown Affair',\n",
       " 'The 13th Warrior',\n",
       " 'Rollerball',\n",
       " 'Under the Cherry Moon',\n",
       " 'Graffiti Bridge',\n",
       " \"'Round Midnight\",\n",
       " 'Brighton Beach Memoirs',\n",
       " 'A Fine Mess',\n",
       " \"That's Life!\",\n",
       " 'Blind Date',\n",
       " 'Sunset',\n",
       " 'Skin Deep',\n",
       " 'Switch',\n",
       " \"Let's Get Harry\",\n",
       " 'My Heroes Have Always Been Cowboys',\n",
       " 'Sweet Liberty',\n",
       " \"Betsy's Wedding\",\n",
       " 'Born American',\n",
       " 'Prison',\n",
       " 'A Nightmare on Elm Street 4: The Dream Master',\n",
       " 'Die Hard 2',\n",
       " 'The Adventures of Ford Fairlane',\n",
       " 'Cliffhanger',\n",
       " 'Cutthroat Island',\n",
       " 'The Long Kiss Goodnight',\n",
       " 'Deep Blue Sea',\n",
       " 'Driven',\n",
       " 'Exorcist: The Beginning',\n",
       " 'The Covenant',\n",
       " '12 Rounds',\n",
       " 'The Legend of Hercules',\n",
       " 'Nutcracker',\n",
       " 'Wind',\n",
       " 'Fly Away Home',\n",
       " 'Dream Lover',\n",
       " 'See You in the Morning',\n",
       " 'Presumed Innocent',\n",
       " 'Consenting Adults',\n",
       " 'The Pelican Brief',\n",
       " \"The Devil's Own\",\n",
       " 'The Longshot',\n",
       " 'Scenes from the Class Struggle in Beverly Hills',\n",
       " 'Hamlet',\n",
       " 'On the Edge',\n",
       " 'Nightbreed',\n",
       " 'Lord of Illusions',\n",
       " 'Dirty Dancing',\n",
       " 'Chances Are',\n",
       " '3 Men and a Little Lady',\n",
       " 'Sister Act',\n",
       " 'The Nutcracker',\n",
       " 'The Lost Boys',\n",
       " 'Cousins',\n",
       " 'Flatliners',\n",
       " 'Dying Young',\n",
       " 'The Client',\n",
       " 'Batman Forever',\n",
       " 'A Time to Kill',\n",
       " 'Batman & Robin',\n",
       " 'Flawless',\n",
       " 'Tigerland',\n",
       " 'Phone Booth',\n",
       " 'Bad Company',\n",
       " 'The Number 23',\n",
       " 'Twelve',\n",
       " 'Spaceballs',\n",
       " 'Life Stinks',\n",
       " 'RoboCop',\n",
       " 'El vengador del futuro',\n",
       " 'Starship Troopers',\n",
       " 'Hollow Man',\n",
       " 'Lethal Weapon',\n",
       " 'Scrooged',\n",
       " 'Lethal Weapon 2',\n",
       " 'Lethal Weapon 3',\n",
       " 'Radio Flyer',\n",
       " 'Maverick',\n",
       " 'Conspiracy Theory',\n",
       " 'Lethal Weapon 4',\n",
       " 'Timeline',\n",
       " '16 Blocks',\n",
       " 'Evil Dead II',\n",
       " 'Darkman',\n",
       " 'Army of Darkness',\n",
       " 'For Love of the Game',\n",
       " 'The Gift',\n",
       " 'Spider-Man',\n",
       " 'Spider-Man 2',\n",
       " 'Spider-Man 3',\n",
       " 'Drag Me to Hell',\n",
       " 'Oz the Great and Powerful',\n",
       " 'Empire of the Sun',\n",
       " 'Indiana Jones and the Last Crusade',\n",
       " 'Always',\n",
       " 'Hook',\n",
       " \"Schindler's List\",\n",
       " 'Jurassic Park',\n",
       " 'The Lost World: Jurassic Park',\n",
       " 'Amistad',\n",
       " 'Saving Private Ryan',\n",
       " 'A.I. Artificial Intelligence',\n",
       " 'Catch Me If You Can',\n",
       " 'Minority Report',\n",
       " 'The Terminal',\n",
       " 'War of the Worlds',\n",
       " 'Indiana Jones and the Kingdom of the Crystal Skull',\n",
       " 'The Adventures of Tintin',\n",
       " 'War Horse',\n",
       " 'Lincoln',\n",
       " 'Bridge of Spies',\n",
       " 'The BFG',\n",
       " 'The Witches of Eastwick',\n",
       " 'The NeverEnding Story II: The Next Chapter',\n",
       " \"Lorenzo's Oil\",\n",
       " 'Andre',\n",
       " 'Zeus and Roxanne',\n",
       " 'Happy Feet',\n",
       " 'Summer School',\n",
       " \"Bert Rigby, You're a Fool\",\n",
       " 'Sibling Rivalry',\n",
       " 'Fatal Instinct',\n",
       " 'A Nightmare on Elm Street 3: Dream Warriors',\n",
       " 'The Blob',\n",
       " 'The Mask',\n",
       " 'Eraser',\n",
       " 'Bless the Child',\n",
       " 'The Scorpion King',\n",
       " 'Adventures in Babysitting',\n",
       " 'Heartbreak Hotel',\n",
       " 'Home Alone',\n",
       " 'Only the Lonely',\n",
       " 'Home Alone 2: Lost in New York',\n",
       " 'Mrs. Doubtfire',\n",
       " 'Nine Months',\n",
       " 'Stepmom',\n",
       " 'Bicentennial Man',\n",
       " 'Rent',\n",
       " 'Pixels',\n",
       " 'Mississippi Burning',\n",
       " 'Come See the Paradise',\n",
       " 'The Road to Wellville',\n",
       " 'Evita',\n",
       " \"Angela's Ashes\",\n",
       " 'The Life of David Gale',\n",
       " 'Innerspace',\n",
       " 'Amazon Women on the Moon',\n",
       " \"The 'Burbs\",\n",
       " 'Gremlins 2: The New Batch',\n",
       " 'Matinee',\n",
       " 'Small Soldiers',\n",
       " 'Moonstruck',\n",
       " 'In Country',\n",
       " \"Other People's Money\",\n",
       " 'Only You',\n",
       " 'Bogus',\n",
       " 'The Hurricane',\n",
       " 'Good Morning, Vietnam',\n",
       " 'Tin Men',\n",
       " 'Rain Man',\n",
       " 'Avalon',\n",
       " 'Bugsy',\n",
       " 'Toys',\n",
       " 'Disclosure',\n",
       " 'Jimmy Hollywood',\n",
       " 'Sleepers',\n",
       " 'Wag the Dog',\n",
       " 'Sphere',\n",
       " 'Liberty Heights',\n",
       " 'Bandits',\n",
       " 'Envy',\n",
       " 'Man of the Year',\n",
       " 'What Just Happened',\n",
       " 'The Bay',\n",
       " 'Rock the Kasbah',\n",
       " 'Slaves of New York',\n",
       " 'The Remains of the Day',\n",
       " 'Jefferson in Paris',\n",
       " 'Surviving Picasso',\n",
       " 'The Divorce',\n",
       " 'La Bamba',\n",
       " 'Near Dark',\n",
       " 'Blue Steel',\n",
       " 'Strange Days',\n",
       " 'The Weight of Water',\n",
       " 'The Hurt Locker',\n",
       " 'Zero Dark Thirty',\n",
       " 'No Way Out',\n",
       " 'Cocktail',\n",
       " 'Cadillac Man',\n",
       " 'White Sands',\n",
       " 'The Getaway',\n",
       " 'Species',\n",
       " \"Dante's Peak\",\n",
       " 'Thirteen Days',\n",
       " 'The Recruit',\n",
       " 'Seeking Justice',\n",
       " 'The November Man',\n",
       " 'Baby Boom',\n",
       " 'Father of the Bride',\n",
       " 'I Love Trouble',\n",
       " 'Father of the Bride Part II',\n",
       " 'The Affair of the Necklace',\n",
       " 'Jennifer 8',\n",
       " 'The Rum Diary',\n",
       " 'Broadcast News',\n",
       " \"I'll Do Anything\",\n",
       " 'As Good as It Gets',\n",
       " 'Spanglish',\n",
       " 'How Do You Know',\n",
       " 'Roxanne',\n",
       " 'The Russia House',\n",
       " 'Mr. Baseball',\n",
       " 'Six Degrees of Separation',\n",
       " 'I.Q.',\n",
       " 'It Runs in the Family',\n",
       " 'The Secret of My Succe$s',\n",
       " 'Steel Magnolias',\n",
       " 'My Blue Heaven',\n",
       " 'True Colors',\n",
       " 'Undercover Blues',\n",
       " 'Boys on the Side',\n",
       " 'Throw Momma from the Train',\n",
       " 'The War of the Roses',\n",
       " 'Hoffa',\n",
       " 'Matilda',\n",
       " 'True Believer',\n",
       " 'Sleeping with the Enemy',\n",
       " 'The Good Son',\n",
       " 'Money Train',\n",
       " 'Return to Paradise',\n",
       " 'The Forgotten',\n",
       " 'The Hidden',\n",
       " 'Renegades',\n",
       " 'Barfly',\n",
       " 'Reversal of Fortune',\n",
       " 'Single White Female',\n",
       " 'Kiss of Death',\n",
       " 'Before and After',\n",
       " 'Desperate Measures',\n",
       " 'Murder by Numbers',\n",
       " \"Three O'Clock High\",\n",
       " 'Final Analysis',\n",
       " \"Heaven's Prisoners\",\n",
       " 'Gridiron Gang',\n",
       " 'The Believers',\n",
       " 'Pacific Heights',\n",
       " 'Eye for an Eye',\n",
       " 'The Next Best Thing',\n",
       " 'The Pick-up Artist',\n",
       " 'Two Girls and a Guy',\n",
       " 'Black & White',\n",
       " 'Beyond Therapy',\n",
       " 'The Player',\n",
       " 'Short Cuts',\n",
       " 'Ready to Wear',\n",
       " 'The Gingerbread Man',\n",
       " \"Cookie's Fortune\",\n",
       " 'Dr. T & the Women',\n",
       " 'Vanya on 42nd Street',\n",
       " 'Someone to Watch Over Me',\n",
       " 'Black Rain',\n",
       " 'Thelma & Louise',\n",
       " 'White Squall',\n",
       " 'G.I. Jane',\n",
       " 'Gladiator',\n",
       " 'Black Hawk Down',\n",
       " 'Hannibal',\n",
       " 'Matchstick Men',\n",
       " 'Kingdom of Heaven',\n",
       " 'A Good Year',\n",
       " 'American Gangster',\n",
       " 'Body of Lies',\n",
       " 'Robin Hood',\n",
       " 'Prometheus',\n",
       " 'In Love and War',\n",
       " 'Black Widow',\n",
       " 'Mountains of the Moon',\n",
       " 'Man Trouble',\n",
       " 'Blood and Wine',\n",
       " 'Rosalie Goes Shopping',\n",
       " 'Project X',\n",
       " 'Immediate Family',\n",
       " 'Love Field',\n",
       " 'Bad Girls',\n",
       " 'Brokedown Palace',\n",
       " 'The Barbarians',\n",
       " 'Ishtar',\n",
       " 'Suspect',\n",
       " 'The House on Carroll Street',\n",
       " 'An Innocent Man',\n",
       " 'Year of the Comet',\n",
       " 'Roommates',\n",
       " 'Where the Heart Is',\n",
       " 'The Tailor of Panama',\n",
       " 'Outrageous Fortune',\n",
       " 'See No Evil, Hear No Evil',\n",
       " 'Taking Care of Business',\n",
       " 'Married to It',\n",
       " 'The Babe',\n",
       " 'Carpool',\n",
       " 'An Alan Smithee Film: Burn Hollywood Burn',\n",
       " 'Matewan',\n",
       " 'Eight Men Out',\n",
       " 'City of Hope',\n",
       " 'Passion Fish',\n",
       " 'The Secret of Roan Inish',\n",
       " 'Lone Star',\n",
       " 'Dangerous Liaisons',\n",
       " 'The Grifters',\n",
       " 'Hero',\n",
       " 'Mary Reilly',\n",
       " 'Lay the Favorite',\n",
       " 'The Sicilian',\n",
       " 'Desperate Hours',\n",
       " 'The Sunchaser',\n",
       " 'Light of Day',\n",
       " 'The Comfort of Strangers',\n",
       " 'Light Sleeper',\n",
       " 'Affliction',\n",
       " 'Auto Focus',\n",
       " 'Dominion: Prequel to the Exorcist',\n",
       " 'The Canyons',\n",
       " 'The Whales of August',\n",
       " 'Wanted: Dead or Alive',\n",
       " 'Poltergeist III',\n",
       " 'Lisa',\n",
       " 'Made in Heaven',\n",
       " 'The Moderns',\n",
       " 'Love at Large',\n",
       " 'Mortal Thoughts',\n",
       " 'Equinox',\n",
       " 'Mrs. Parker and the Vicious Circle',\n",
       " 'Breakfast of Champions',\n",
       " 'Dancing at the Blue Iguana',\n",
       " 'The Merchant of Venice',\n",
       " 'Nuts',\n",
       " 'Stanley & Iris',\n",
       " 'Rampage',\n",
       " 'The Guardian',\n",
       " 'Blue Chips',\n",
       " 'Jade',\n",
       " 'The Hunted',\n",
       " 'Bug',\n",
       " 'Killer Joe',\n",
       " 'Promised Land',\n",
       " 'Soapdish',\n",
       " 'Restoration',\n",
       " 'One Fine Day',\n",
       " \"The Emperor's Club\",\n",
       " 'The Best of Me',\n",
       " 'The Bedroom Window',\n",
       " 'Bad Influence',\n",
       " 'The Hand That Rocks the Cradle',\n",
       " 'The River Wild',\n",
       " 'L.A. Confidential',\n",
       " 'Wonder Boys',\n",
       " '8 Mile',\n",
       " 'In Her Shoes',\n",
       " 'Lucky You',\n",
       " 'Square Dance',\n",
       " 'Cocoon: The Return',\n",
       " 'Rocket Gibraltar',\n",
       " 'Lassie',\n",
       " 'In the Mood',\n",
       " 'Field of Dreams',\n",
       " 'Sneakers',\n",
       " 'The Sum of All Fears',\n",
       " 'Crazy People',\n",
       " 'Untamed Heart',\n",
       " 'A Home of Our Own',\n",
       " 'Deadly Illusion',\n",
       " 'Wicked Stepmother',\n",
       " 'The Joy Luck Club',\n",
       " 'Anywhere But Here',\n",
       " 'The Center of the World',\n",
       " 'Maid in Manhattan',\n",
       " 'Because of Winn-Dixie',\n",
       " 'Last Holiday',\n",
       " 'China Girl',\n",
       " 'Bad Lieutenant',\n",
       " 'Body Snatchers',\n",
       " 'The Addiction',\n",
       " 'The Funeral',\n",
       " 'New Rose Hotel',\n",
       " 'Nadine',\n",
       " 'Billy Bathgate',\n",
       " \"Nobody's Fool\",\n",
       " 'Twilight',\n",
       " 'Feast of Love',\n",
       " 'Dead of Winter',\n",
       " 'Walk Like a Man',\n",
       " \"Tough Guys Don't Dance\",\n",
       " 'Disorderlies',\n",
       " \"Livin' Large!\",\n",
       " 'Sister, Sister',\n",
       " 'Candyman: Farewell to the Flesh',\n",
       " 'Gods and Monsters',\n",
       " 'Kinsey',\n",
       " 'Dreamgirls',\n",
       " 'The Twilight Saga: Breaking Dawn - Part 1',\n",
       " 'The Twilight Saga: Breaking Dawn - Part 2',\n",
       " 'The Fifth Estate',\n",
       " 'Making Mr. Right',\n",
       " 'She-Devil',\n",
       " 'Cookie',\n",
       " 'Russkies',\n",
       " 'Halloween: Resurrection',\n",
       " 'Surrender',\n",
       " 'Housekeeping',\n",
       " 'Breaking In',\n",
       " 'From the Hip',\n",
       " 'Loose Cannons',\n",
       " 'Baby Geniuses',\n",
       " 'Critical Condition',\n",
       " 'Gorillas in the Mist',\n",
       " 'Class Action',\n",
       " 'Thunderheart',\n",
       " 'Blink',\n",
       " 'Nell',\n",
       " 'Extreme Measures',\n",
       " 'Enough',\n",
       " 'Amazing Grace',\n",
       " 'The Chronicles of Narnia: The Voyage of the Dawn Treader',\n",
       " 'Chasing Mavericks',\n",
       " 'Weeds',\n",
       " 'Prancer',\n",
       " 'Benji the Hunted',\n",
       " 'Beetlejuice',\n",
       " 'Batman',\n",
       " 'Edward Scissorhands',\n",
       " 'Batman Returns',\n",
       " 'Ed Wood',\n",
       " 'Mars Attacks!',\n",
       " 'Sleepy Hollow',\n",
       " 'Planet of the Apes',\n",
       " 'Big Fish',\n",
       " 'Charlie and the Chocolate Factory',\n",
       " 'Corpse Bride',\n",
       " 'Sweeney Todd: The Demon Barber of Fleet Street',\n",
       " 'Alice in Wonderland',\n",
       " 'Dark Shadows',\n",
       " 'Frankenweenie',\n",
       " 'Big Eyes',\n",
       " 'Heathers',\n",
       " 'Meet the Applegates',\n",
       " 'Hudson Hawk',\n",
       " 'Airheads',\n",
       " 'The Truth About Cats & Dogs',\n",
       " 'My Giant',\n",
       " '40 Days and 40 Nights',\n",
       " 'Because I Said So',\n",
       " 'Who Framed Roger Rabbit',\n",
       " 'Back to the Future Part II',\n",
       " 'Back to the Future Part III',\n",
       " 'Death Becomes Her',\n",
       " 'Forrest Gump',\n",
       " 'Contact',\n",
       " 'Cast Away',\n",
       " 'What Lies Beneath',\n",
       " 'The Polar Express',\n",
       " 'Beowulf',\n",
       " 'A Christmas Carol',\n",
       " 'Flight',\n",
       " 'The Walk',\n",
       " 'Midnight Run',\n",
       " 'Scent of a Woman',\n",
       " 'Meet Joe Black',\n",
       " 'Gigli',\n",
       " 'The Unbearable Lightness of Being',\n",
       " 'Henry & June',\n",
       " 'Rising Sun',\n",
       " 'The Family',\n",
       " 'Hairspray',\n",
       " 'Cry-Baby',\n",
       " 'Serial Mom',\n",
       " 'Pecker',\n",
       " 'A Dirty Shame',\n",
       " 'Bull Durham',\n",
       " 'Blaze',\n",
       " \"White Men Can't Jump\",\n",
       " 'Cobb',\n",
       " ...]"
      ]
     },
     "execution_count": 41,
     "metadata": {},
     "output_type": "execute_result"
    }
   ],
   "source": [
    "result['name'].unique().tolist()"
   ]
  },
  {
   "cell_type": "code",
   "execution_count": 42,
   "metadata": {},
   "outputs": [
    {
     "data": {
      "text/plain": [
       "[<matplotlib.lines.Line2D at 0x2a2c53f4fd0>]"
      ]
     },
     "execution_count": 42,
     "metadata": {},
     "output_type": "execute_result"
    },
    {
     "data": {
      "image/png": "[encoded data removed]",
      "text/plain": [
       "<Figure size 432x288 with 1 Axes>"
      ]
     },
     "metadata": {
      "needs_background": "light"
     },
     "output_type": "display_data"
    }
   ],
   "source": [
    "plt.plot(result[\"2019\"], result[\"gross\"], '*')"
   ]
  },
  {
   "cell_type": "code",
   "execution_count": 43,
   "metadata": {},
   "outputs": [
    {
     "data": {
      "text/plain": [
       "244629"
      ]
     },
     "execution_count": 43,
     "metadata": {},
     "output_type": "execute_result"
    }
   ],
   "source": [
    "result.drop_duplicates().size"
   ]
  },
  {
   "cell_type": "markdown",
   "metadata": {},
   "source": [
    "## 3. Data Preprocessing\n",
    "See the types of the data in Movies, most of them are \"object\"s (string). We need to convert them into numbers so that the ML models can recognize the data."
   ]
  },
  {
   "cell_type": "code",
   "execution_count": 44,
   "metadata": {},
   "outputs": [
    {
     "data": {
      "text/plain": [
       "budget      float64\n",
       "company      object\n",
       "country      object\n",
       "director     object\n",
       "genre        object\n",
       "             ...   \n",
       "2020        float64\n",
       "2021        float64\n",
       "2022        float64\n",
       "2023        float64\n",
       "2024        float64\n",
       "Length: 77, dtype: object"
      ]
     },
     "execution_count": 44,
     "metadata": {},
     "output_type": "execute_result"
    }
   ],
   "source": [
    "# print the data type\n",
    "result.dtypes"
   ]
  },
  {
   "cell_type": "code",
   "execution_count": 45,
   "metadata": {},
   "outputs": [],
   "source": [
    "from sklearn import preprocessing\n",
    "\n",
    "def convert(df, col):\n",
    "    \"\"\"\n",
    "    convert lables (string) to numbers\n",
    "    input:\n",
    "    df: dataframe\n",
    "    col: column name\n",
    "    return:\n",
    "    converted dataframe\n",
    "    \"\"\"\n",
    "    model = preprocessing.LabelEncoder()\n",
    "    df[col] = model.fit_transform(df[col])\n",
    "    classes =  list(model.classes_)\n",
    "    #data = data.fillna(-9999)\n",
    "    return df, classes"
   ]
  },
  {
   "cell_type": "code",
   "execution_count": 46,
   "metadata": {},
   "outputs": [],
   "source": [
    "# covert all labels (string)"
   ]
  },
  {
   "cell_type": "code",
   "execution_count": 47,
   "metadata": {},
   "outputs": [],
   "source": [
    "campany_convert, company_lables = convert(result, 'company')"
   ]
  },
  {
   "cell_type": "code",
   "execution_count": 48,
   "metadata": {},
   "outputs": [],
   "source": [
    "country_convert, country_lables = convert(campany_convert, 'country')"
   ]
  },
  {
   "cell_type": "code",
   "execution_count": 49,
   "metadata": {},
   "outputs": [],
   "source": [
    "director_convert, director_lables = convert(country_convert, 'director')"
   ]
  },
  {
   "cell_type": "code",
   "execution_count": 50,
   "metadata": {},
   "outputs": [],
   "source": [
    "genre_convert, genre_lables = convert(director_convert, 'genre')"
   ]
  },
  {
   "cell_type": "code",
   "execution_count": 51,
   "metadata": {},
   "outputs": [],
   "source": [
    "name_convert, name_lables = convert(genre_convert, 'name')"
   ]
  },
  {
   "cell_type": "code",
   "execution_count": 52,
   "metadata": {},
   "outputs": [],
   "source": [
    "rating_convert, rating_lables = convert(name_convert, 'rating')"
   ]
  },
  {
   "cell_type": "code",
   "execution_count": 53,
   "metadata": {},
   "outputs": [],
   "source": [
    "star_convert, star_lables = convert(rating_convert, 'star')"
   ]
  },
  {
   "cell_type": "code",
   "execution_count": 54,
   "metadata": {},
   "outputs": [],
   "source": [
    "writer_convert, writer_lables = convert(star_convert, 'writer')"
   ]
  },
  {
   "cell_type": "code",
   "execution_count": 55,
   "metadata": {},
   "outputs": [],
   "source": [
    "birth_place_convert, birth_place_lables = convert(writer_convert, 'birth place')"
   ]
  },
  {
   "cell_type": "code",
   "execution_count": 56,
   "metadata": {},
   "outputs": [],
   "source": [
    "year_active_convert, year_active_lables = convert(birth_place_convert, 'year active')"
   ]
  },
  {
   "cell_type": "code",
   "execution_count": 57,
   "metadata": {},
   "outputs": [],
   "source": [
    "birth_day_convert, birth_day_lables = convert(year_active_convert, 'birth day')"
   ]
  },
  {
   "cell_type": "code",
   "execution_count": 58,
   "metadata": {},
   "outputs": [],
   "source": [
    "roles_convert, roles_lables = convert(birth_day_convert, 'roles')"
   ]
  },
  {
   "cell_type": "code",
   "execution_count": 59,
   "metadata": {},
   "outputs": [],
   "source": [
    "# calculate mean gdp"
   ]
  },
  {
   "cell_type": "code",
   "execution_count": 60,
   "metadata": {},
   "outputs": [],
   "source": [
    "result = roles_convert"
   ]
  },
  {
   "cell_type": "code",
   "execution_count": 61,
   "metadata": {},
   "outputs": [],
   "source": [
    "result['gdp mean'] = result[gdp_years].mean(axis=1)"
   ]
  },
  {
   "cell_type": "code",
   "execution_count": 62,
   "metadata": {},
   "outputs": [],
   "source": [
    "result_option = ['budget', 'company', 'country', 'director', 'genre', 'gross', 'name',\n",
    "                 'rating', 'runtime', 'score', 'star', 'votes', 'writer','year', \n",
    "                 'year active', 'birth day', 'birth place', 'roles', 'died', 'gdp mean']"
   ]
  },
  {
   "cell_type": "code",
   "execution_count": 63,
   "metadata": {},
   "outputs": [],
   "source": [
    "# result_convert\n",
    "result_convert = result[result_option]"
   ]
  },
  {
   "cell_type": "code",
   "execution_count": 64,
   "metadata": {},
   "outputs": [
    {
     "data": {
      "text/plain": [
       "Index(['budget', 'company', 'country', 'director', 'genre', 'gross', 'name',\n",
       "       'rating', 'runtime', 'score', 'star', 'votes', 'writer', 'year',\n",
       "       'year active', 'birth day', 'birth place', 'roles', 'died', 'gdp mean'],\n",
       "      dtype='object')"
      ]
     },
     "execution_count": 64,
     "metadata": {},
     "output_type": "execute_result"
    }
   ],
   "source": [
    "result_convert.columns"
   ]
  },
  {
   "cell_type": "code",
   "execution_count": 65,
   "metadata": {},
   "outputs": [
    {
     "data": {
      "text/html": [
       "<div>\n",
       "<style scoped>\n",
       "    .dataframe tbody tr th:only-of-type {\n",
       "        vertical-align: middle;\n",
       "    }\n",
       "\n",
       "    .dataframe tbody tr th {\n",
       "        vertical-align: top;\n",
       "    }\n",
       "\n",
       "    .dataframe thead th {\n",
       "        text-align: right;\n",
       "    }\n",
       "</style>\n",
       "<table border=\"1\" class=\"dataframe\">\n",
       "  <thead>\n",
       "    <tr style=\"text-align: right;\">\n",
       "      <th></th>\n",
       "      <th>budget</th>\n",
       "      <th>company</th>\n",
       "      <th>country</th>\n",
       "      <th>director</th>\n",
       "      <th>genre</th>\n",
       "      <th>gross</th>\n",
       "      <th>name</th>\n",
       "      <th>rating</th>\n",
       "      <th>runtime</th>\n",
       "      <th>score</th>\n",
       "      <th>star</th>\n",
       "      <th>votes</th>\n",
       "      <th>writer</th>\n",
       "      <th>year</th>\n",
       "      <th>year active</th>\n",
       "      <th>birth day</th>\n",
       "      <th>birth place</th>\n",
       "      <th>roles</th>\n",
       "      <th>died</th>\n",
       "      <th>gdp mean</th>\n",
       "    </tr>\n",
       "  </thead>\n",
       "  <tbody>\n",
       "    <tr>\n",
       "      <th>0</th>\n",
       "      <td>8000000.0</td>\n",
       "      <td>302</td>\n",
       "      <td>34</td>\n",
       "      <td>519</td>\n",
       "      <td>1</td>\n",
       "      <td>52287414.0</td>\n",
       "      <td>2186</td>\n",
       "      <td>6</td>\n",
       "      <td>89</td>\n",
       "      <td>8.1</td>\n",
       "      <td>1221</td>\n",
       "      <td>299174</td>\n",
       "      <td>1765</td>\n",
       "      <td>1986</td>\n",
       "      <td>77</td>\n",
       "      <td>239</td>\n",
       "      <td>382</td>\n",
       "      <td>20</td>\n",
       "      <td>0</td>\n",
       "      <td>1.016453e+07</td>\n",
       "    </tr>\n",
       "    <tr>\n",
       "      <th>1</th>\n",
       "      <td>16000000.0</td>\n",
       "      <td>28</td>\n",
       "      <td>34</td>\n",
       "      <td>519</td>\n",
       "      <td>1</td>\n",
       "      <td>30857814.0</td>\n",
       "      <td>2725</td>\n",
       "      <td>4</td>\n",
       "      <td>98</td>\n",
       "      <td>8.1</td>\n",
       "      <td>171</td>\n",
       "      <td>320953</td>\n",
       "      <td>1955</td>\n",
       "      <td>1987</td>\n",
       "      <td>77</td>\n",
       "      <td>239</td>\n",
       "      <td>382</td>\n",
       "      <td>20</td>\n",
       "      <td>0</td>\n",
       "      <td>1.016453e+07</td>\n",
       "    </tr>\n",
       "    <tr>\n",
       "      <th>2</th>\n",
       "      <td>16000000.0</td>\n",
       "      <td>244</td>\n",
       "      <td>34</td>\n",
       "      <td>519</td>\n",
       "      <td>4</td>\n",
       "      <td>92823600.0</td>\n",
       "      <td>3074</td>\n",
       "      <td>6</td>\n",
       "      <td>96</td>\n",
       "      <td>7.6</td>\n",
       "      <td>117</td>\n",
       "      <td>161347</td>\n",
       "      <td>1408</td>\n",
       "      <td>1989</td>\n",
       "      <td>77</td>\n",
       "      <td>239</td>\n",
       "      <td>382</td>\n",
       "      <td>20</td>\n",
       "      <td>0</td>\n",
       "      <td>1.016453e+07</td>\n",
       "    </tr>\n",
       "    <tr>\n",
       "      <th>3</th>\n",
       "      <td>20000000.0</td>\n",
       "      <td>244</td>\n",
       "      <td>34</td>\n",
       "      <td>519</td>\n",
       "      <td>5</td>\n",
       "      <td>61276872.0</td>\n",
       "      <td>1578</td>\n",
       "      <td>6</td>\n",
       "      <td>107</td>\n",
       "      <td>7.8</td>\n",
       "      <td>483</td>\n",
       "      <td>147278</td>\n",
       "      <td>1765</td>\n",
       "      <td>1990</td>\n",
       "      <td>77</td>\n",
       "      <td>239</td>\n",
       "      <td>382</td>\n",
       "      <td>20</td>\n",
       "      <td>0</td>\n",
       "      <td>1.016453e+07</td>\n",
       "    </tr>\n",
       "    <tr>\n",
       "      <th>4</th>\n",
       "      <td>40000000.0</td>\n",
       "      <td>302</td>\n",
       "      <td>34</td>\n",
       "      <td>519</td>\n",
       "      <td>6</td>\n",
       "      <td>141340178.0</td>\n",
       "      <td>48</td>\n",
       "      <td>6</td>\n",
       "      <td>138</td>\n",
       "      <td>7.7</td>\n",
       "      <td>1167</td>\n",
       "      <td>196002</td>\n",
       "      <td>5</td>\n",
       "      <td>1992</td>\n",
       "      <td>77</td>\n",
       "      <td>239</td>\n",
       "      <td>382</td>\n",
       "      <td>20</td>\n",
       "      <td>0</td>\n",
       "      <td>1.016453e+07</td>\n",
       "    </tr>\n",
       "    <tr>\n",
       "      <th>...</th>\n",
       "      <td>...</td>\n",
       "      <td>...</td>\n",
       "      <td>...</td>\n",
       "      <td>...</td>\n",
       "      <td>...</td>\n",
       "      <td>...</td>\n",
       "      <td>...</td>\n",
       "      <td>...</td>\n",
       "      <td>...</td>\n",
       "      <td>...</td>\n",
       "      <td>...</td>\n",
       "      <td>...</td>\n",
       "      <td>...</td>\n",
       "      <td>...</td>\n",
       "      <td>...</td>\n",
       "      <td>...</td>\n",
       "      <td>...</td>\n",
       "      <td>...</td>\n",
       "      <td>...</td>\n",
       "      <td>...</td>\n",
       "    </tr>\n",
       "    <tr>\n",
       "      <th>3172</th>\n",
       "      <td>14000000.0</td>\n",
       "      <td>756</td>\n",
       "      <td>3</td>\n",
       "      <td>171</td>\n",
       "      <td>11</td>\n",
       "      <td>5981749.0</td>\n",
       "      <td>770</td>\n",
       "      <td>6</td>\n",
       "      <td>108</td>\n",
       "      <td>6.3</td>\n",
       "      <td>653</td>\n",
       "      <td>40462</td>\n",
       "      <td>155</td>\n",
       "      <td>2014</td>\n",
       "      <td>0</td>\n",
       "      <td>462</td>\n",
       "      <td>0</td>\n",
       "      <td>296</td>\n",
       "      <td>0</td>\n",
       "      <td>2.905727e+05</td>\n",
       "    </tr>\n",
       "    <tr>\n",
       "      <th>3173</th>\n",
       "      <td>28000000.0</td>\n",
       "      <td>314</td>\n",
       "      <td>3</td>\n",
       "      <td>463</td>\n",
       "      <td>6</td>\n",
       "      <td>1019038.0</td>\n",
       "      <td>163</td>\n",
       "      <td>6</td>\n",
       "      <td>137</td>\n",
       "      <td>6.4</td>\n",
       "      <td>728</td>\n",
       "      <td>22766</td>\n",
       "      <td>1455</td>\n",
       "      <td>2013</td>\n",
       "      <td>99</td>\n",
       "      <td>322</td>\n",
       "      <td>208</td>\n",
       "      <td>346</td>\n",
       "      <td>0</td>\n",
       "      <td>2.905727e+05</td>\n",
       "    </tr>\n",
       "    <tr>\n",
       "      <th>3174</th>\n",
       "      <td>0.0</td>\n",
       "      <td>605</td>\n",
       "      <td>32</td>\n",
       "      <td>38</td>\n",
       "      <td>4</td>\n",
       "      <td>183605.0</td>\n",
       "      <td>2983</td>\n",
       "      <td>2</td>\n",
       "      <td>114</td>\n",
       "      <td>6.6</td>\n",
       "      <td>1141</td>\n",
       "      <td>10329</td>\n",
       "      <td>1512</td>\n",
       "      <td>2010</td>\n",
       "      <td>129</td>\n",
       "      <td>581</td>\n",
       "      <td>27</td>\n",
       "      <td>203</td>\n",
       "      <td>0</td>\n",
       "      <td>2.030384e+05</td>\n",
       "    </tr>\n",
       "    <tr>\n",
       "      <th>3175</th>\n",
       "      <td>1100000.0</td>\n",
       "      <td>819</td>\n",
       "      <td>13</td>\n",
       "      <td>189</td>\n",
       "      <td>0</td>\n",
       "      <td>4105123.0</td>\n",
       "      <td>2733</td>\n",
       "      <td>6</td>\n",
       "      <td>101</td>\n",
       "      <td>7.6</td>\n",
       "      <td>459</td>\n",
       "      <td>160867</td>\n",
       "      <td>624</td>\n",
       "      <td>2011</td>\n",
       "      <td>142</td>\n",
       "      <td>636</td>\n",
       "      <td>163</td>\n",
       "      <td>232</td>\n",
       "      <td>0</td>\n",
       "      <td>4.191910e+05</td>\n",
       "    </tr>\n",
       "    <tr>\n",
       "      <th>3176</th>\n",
       "      <td>4500000.0</td>\n",
       "      <td>819</td>\n",
       "      <td>13</td>\n",
       "      <td>189</td>\n",
       "      <td>0</td>\n",
       "      <td>2625803.0</td>\n",
       "      <td>2732</td>\n",
       "      <td>6</td>\n",
       "      <td>150</td>\n",
       "      <td>8.0</td>\n",
       "      <td>459</td>\n",
       "      <td>93993</td>\n",
       "      <td>624</td>\n",
       "      <td>2014</td>\n",
       "      <td>142</td>\n",
       "      <td>636</td>\n",
       "      <td>163</td>\n",
       "      <td>232</td>\n",
       "      <td>0</td>\n",
       "      <td>4.191910e+05</td>\n",
       "    </tr>\n",
       "  </tbody>\n",
       "</table>\n",
       "<p>3177 rows × 20 columns</p>\n",
       "</div>"
      ],
      "text/plain": [
       "          budget  company  country  director  genre        gross  name  \\\n",
       "0      8000000.0      302       34       519      1   52287414.0  2186   \n",
       "1     16000000.0       28       34       519      1   30857814.0  2725   \n",
       "2     16000000.0      244       34       519      4   92823600.0  3074   \n",
       "3     20000000.0      244       34       519      5   61276872.0  1578   \n",
       "4     40000000.0      302       34       519      6  141340178.0    48   \n",
       "...          ...      ...      ...       ...    ...          ...   ...   \n",
       "3172  14000000.0      756        3       171     11    5981749.0   770   \n",
       "3173  28000000.0      314        3       463      6    1019038.0   163   \n",
       "3174         0.0      605       32        38      4     183605.0  2983   \n",
       "3175   1100000.0      819       13       189      0    4105123.0  2733   \n",
       "3176   4500000.0      819       13       189      0    2625803.0  2732   \n",
       "\n",
       "      rating  runtime  score  star   votes  writer  year  year active  \\\n",
       "0          6       89    8.1  1221  299174    1765  1986           77   \n",
       "1          4       98    8.1   171  320953    1955  1987           77   \n",
       "2          6       96    7.6   117  161347    1408  1989           77   \n",
       "3          6      107    7.8   483  147278    1765  1990           77   \n",
       "4          6      138    7.7  1167  196002       5  1992           77   \n",
       "...      ...      ...    ...   ...     ...     ...   ...          ...   \n",
       "3172       6      108    6.3   653   40462     155  2014            0   \n",
       "3173       6      137    6.4   728   22766    1455  2013           99   \n",
       "3174       2      114    6.6  1141   10329    1512  2010          129   \n",
       "3175       6      101    7.6   459  160867     624  2011          142   \n",
       "3176       6      150    8.0   459   93993     624  2014          142   \n",
       "\n",
       "      birth day  birth place  roles  died      gdp mean  \n",
       "0           239          382     20     0  1.016453e+07  \n",
       "1           239          382     20     0  1.016453e+07  \n",
       "2           239          382     20     0  1.016453e+07  \n",
       "3           239          382     20     0  1.016453e+07  \n",
       "4           239          382     20     0  1.016453e+07  \n",
       "...         ...          ...    ...   ...           ...  \n",
       "3172        462            0    296     0  2.905727e+05  \n",
       "3173        322          208    346     0  2.905727e+05  \n",
       "3174        581           27    203     0  2.030384e+05  \n",
       "3175        636          163    232     0  4.191910e+05  \n",
       "3176        636          163    232     0  4.191910e+05  \n",
       "\n",
       "[3177 rows x 20 columns]"
      ]
     },
     "execution_count": 65,
     "metadata": {},
     "output_type": "execute_result"
    }
   ],
   "source": [
    "result_convert"
   ]
  },
  {
   "cell_type": "markdown",
   "metadata": {},
   "source": [
    "## Part II. Data Modeling"
   ]
  },
  {
   "cell_type": "markdown",
   "metadata": {},
   "source": [
    "### Predict 'Died' with SVM"
   ]
  },
  {
   "cell_type": "code",
   "execution_count": 66,
   "metadata": {},
   "outputs": [],
   "source": [
    "X_option = ['year active', 'birth day', 'birth place']\n",
    "y_option = ['died']"
   ]
  },
  {
   "cell_type": "code",
   "execution_count": 67,
   "metadata": {},
   "outputs": [],
   "source": [
    "X = result_convert[X_option]\n",
    "y = result_convert[y_option]"
   ]
  },
  {
   "cell_type": "code",
   "execution_count": 68,
   "metadata": {},
   "outputs": [],
   "source": [
    "from sklearn.model_selection import train_test_split"
   ]
  },
  {
   "cell_type": "code",
   "execution_count": 69,
   "metadata": {},
   "outputs": [],
   "source": [
    "X_train, X_test, y_train, y_test = train_test_split(X, y, test_size=0.25)"
   ]
  },
  {
   "cell_type": "code",
   "execution_count": 70,
   "metadata": {},
   "outputs": [],
   "source": [
    "from sklearn.svm import SVC"
   ]
  },
  {
   "cell_type": "code",
   "execution_count": 71,
   "metadata": {},
   "outputs": [],
   "source": [
    "model = SVC(gamma=0.001, kernel='rbf')"
   ]
  },
  {
   "cell_type": "code",
   "execution_count": 72,
   "metadata": {},
   "outputs": [
    {
     "data": {
      "text/plain": [
       "SVC(C=1.0, break_ties=False, cache_size=200, class_weight=None, coef0=0.0,\n",
       "    decision_function_shape='ovr', degree=3, gamma=0.001, kernel='rbf',\n",
       "    max_iter=-1, probability=False, random_state=None, shrinking=True,\n",
       "    tol=0.001, verbose=False)"
      ]
     },
     "execution_count": 72,
     "metadata": {},
     "output_type": "execute_result"
    }
   ],
   "source": [
    "model.fit(X_train, y_train.values.ravel())"
   ]
  },
  {
   "cell_type": "code",
   "execution_count": 73,
   "metadata": {},
   "outputs": [],
   "source": [
    "y_pred = model.predict(X_test)"
   ]
  },
  {
   "cell_type": "code",
   "execution_count": 74,
   "metadata": {},
   "outputs": [
    {
     "data": {
      "text/plain": [
       "0.9559748427672956"
      ]
     },
     "execution_count": 74,
     "metadata": {},
     "output_type": "execute_result"
    }
   ],
   "source": [
    "model.score(X_test, y_test)"
   ]
  },
  {
   "cell_type": "code",
   "execution_count": 76,
   "metadata": {},
   "outputs": [],
   "source": [
    "estimated = pd.Series(y_pred, name='Estimated Values')\n",
    "final_result = pd.concat([y_test.reset_index(drop=True), estimated.reset_index(drop=True)], axis=1)"
   ]
  },
  {
   "cell_type": "code",
   "execution_count": 77,
   "metadata": {},
   "outputs": [
    {
     "data": {
      "text/html": [
       "<div>\n",
       "<style scoped>\n",
       "    .dataframe tbody tr th:only-of-type {\n",
       "        vertical-align: middle;\n",
       "    }\n",
       "\n",
       "    .dataframe tbody tr th {\n",
       "        vertical-align: top;\n",
       "    }\n",
       "\n",
       "    .dataframe thead th {\n",
       "        text-align: right;\n",
       "    }\n",
       "</style>\n",
       "<table border=\"1\" class=\"dataframe\">\n",
       "  <thead>\n",
       "    <tr style=\"text-align: right;\">\n",
       "      <th></th>\n",
       "      <th>died</th>\n",
       "      <th>Estimated Values</th>\n",
       "    </tr>\n",
       "  </thead>\n",
       "  <tbody>\n",
       "    <tr>\n",
       "      <th>0</th>\n",
       "      <td>0</td>\n",
       "      <td>0</td>\n",
       "    </tr>\n",
       "    <tr>\n",
       "      <th>1</th>\n",
       "      <td>0</td>\n",
       "      <td>0</td>\n",
       "    </tr>\n",
       "    <tr>\n",
       "      <th>2</th>\n",
       "      <td>0</td>\n",
       "      <td>0</td>\n",
       "    </tr>\n",
       "    <tr>\n",
       "      <th>3</th>\n",
       "      <td>0</td>\n",
       "      <td>0</td>\n",
       "    </tr>\n",
       "    <tr>\n",
       "      <th>4</th>\n",
       "      <td>0</td>\n",
       "      <td>0</td>\n",
       "    </tr>\n",
       "    <tr>\n",
       "      <th>...</th>\n",
       "      <td>...</td>\n",
       "      <td>...</td>\n",
       "    </tr>\n",
       "    <tr>\n",
       "      <th>790</th>\n",
       "      <td>0</td>\n",
       "      <td>0</td>\n",
       "    </tr>\n",
       "    <tr>\n",
       "      <th>791</th>\n",
       "      <td>0</td>\n",
       "      <td>0</td>\n",
       "    </tr>\n",
       "    <tr>\n",
       "      <th>792</th>\n",
       "      <td>0</td>\n",
       "      <td>0</td>\n",
       "    </tr>\n",
       "    <tr>\n",
       "      <th>793</th>\n",
       "      <td>0</td>\n",
       "      <td>0</td>\n",
       "    </tr>\n",
       "    <tr>\n",
       "      <th>794</th>\n",
       "      <td>0</td>\n",
       "      <td>0</td>\n",
       "    </tr>\n",
       "  </tbody>\n",
       "</table>\n",
       "<p>795 rows × 2 columns</p>\n",
       "</div>"
      ],
      "text/plain": [
       "     died  Estimated Values\n",
       "0       0                 0\n",
       "1       0                 0\n",
       "2       0                 0\n",
       "3       0                 0\n",
       "4       0                 0\n",
       "..    ...               ...\n",
       "790     0                 0\n",
       "791     0                 0\n",
       "792     0                 0\n",
       "793     0                 0\n",
       "794     0                 0\n",
       "\n",
       "[795 rows x 2 columns]"
      ]
     },
     "execution_count": 77,
     "metadata": {},
     "output_type": "execute_result"
    }
   ],
   "source": [
    "final_result"
   ]
  },
  {
   "cell_type": "markdown",
   "metadata": {},
   "source": [
    "### Predict 'Country' with SVM"
   ]
  },
  {
   "cell_type": "code",
   "execution_count": 79,
   "metadata": {},
   "outputs": [
    {
     "data": {
      "text/plain": [
       "SVC(C=1.0, break_ties=False, cache_size=200, class_weight=None, coef0=0.0,\n",
       "    decision_function_shape='ovr', degree=3, gamma=0.001, kernel='rbf',\n",
       "    max_iter=-1, probability=False, random_state=None, shrinking=True,\n",
       "    tol=0.001, verbose=False)"
      ]
     },
     "execution_count": 79,
     "metadata": {},
     "output_type": "execute_result"
    }
   ],
   "source": [
    "X_option = ['company', 'director', 'gross', 'name', 'gdp mean']\n",
    "y_option = ['country']\n",
    "\n",
    "X = result_convert[X_option]\n",
    "y = result_convert[y_option]\n",
    "\n",
    "from sklearn.model_selection import train_test_split\n",
    "X_train, X_test, y_train, y_test = train_test_split(X, y, test_size=0.25)\n",
    "\n",
    "model.fit(X_train, y_train.values.ravel())"
   ]
  },
  {
   "cell_type": "code",
   "execution_count": 80,
   "metadata": {},
   "outputs": [
    {
     "data": {
      "text/plain": [
       "0.740880503144654"
      ]
     },
     "execution_count": 80,
     "metadata": {},
     "output_type": "execute_result"
    }
   ],
   "source": [
    "y_pred = model.predict(X_test)\n",
    "model.score(X_test, y_test)"
   ]
  },
  {
   "cell_type": "code",
   "execution_count": 81,
   "metadata": {},
   "outputs": [],
   "source": [
    "estimated = pd.Series(y_pred, name='Estimated Values')\n",
    "final_result = pd.concat([y_test.reset_index(drop=True), estimated.reset_index(drop=True)], axis=1)"
   ]
  },
  {
   "cell_type": "code",
   "execution_count": 82,
   "metadata": {},
   "outputs": [
    {
     "data": {
      "text/html": [
       "<div>\n",
       "<style scoped>\n",
       "    .dataframe tbody tr th:only-of-type {\n",
       "        vertical-align: middle;\n",
       "    }\n",
       "\n",
       "    .dataframe tbody tr th {\n",
       "        vertical-align: top;\n",
       "    }\n",
       "\n",
       "    .dataframe thead th {\n",
       "        text-align: right;\n",
       "    }\n",
       "</style>\n",
       "<table border=\"1\" class=\"dataframe\">\n",
       "  <thead>\n",
       "    <tr style=\"text-align: right;\">\n",
       "      <th></th>\n",
       "      <th>country</th>\n",
       "      <th>Estimated Values</th>\n",
       "    </tr>\n",
       "  </thead>\n",
       "  <tbody>\n",
       "    <tr>\n",
       "      <th>500</th>\n",
       "      <td>34</td>\n",
       "      <td>34</td>\n",
       "    </tr>\n",
       "    <tr>\n",
       "      <th>501</th>\n",
       "      <td>34</td>\n",
       "      <td>34</td>\n",
       "    </tr>\n",
       "    <tr>\n",
       "      <th>502</th>\n",
       "      <td>8</td>\n",
       "      <td>34</td>\n",
       "    </tr>\n",
       "    <tr>\n",
       "      <th>503</th>\n",
       "      <td>34</td>\n",
       "      <td>34</td>\n",
       "    </tr>\n",
       "    <tr>\n",
       "      <th>504</th>\n",
       "      <td>34</td>\n",
       "      <td>34</td>\n",
       "    </tr>\n",
       "    <tr>\n",
       "      <th>...</th>\n",
       "      <td>...</td>\n",
       "      <td>...</td>\n",
       "    </tr>\n",
       "    <tr>\n",
       "      <th>790</th>\n",
       "      <td>34</td>\n",
       "      <td>34</td>\n",
       "    </tr>\n",
       "    <tr>\n",
       "      <th>791</th>\n",
       "      <td>34</td>\n",
       "      <td>34</td>\n",
       "    </tr>\n",
       "    <tr>\n",
       "      <th>792</th>\n",
       "      <td>34</td>\n",
       "      <td>34</td>\n",
       "    </tr>\n",
       "    <tr>\n",
       "      <th>793</th>\n",
       "      <td>34</td>\n",
       "      <td>34</td>\n",
       "    </tr>\n",
       "    <tr>\n",
       "      <th>794</th>\n",
       "      <td>34</td>\n",
       "      <td>34</td>\n",
       "    </tr>\n",
       "  </tbody>\n",
       "</table>\n",
       "<p>295 rows × 2 columns</p>\n",
       "</div>"
      ],
      "text/plain": [
       "     country  Estimated Values\n",
       "500       34                34\n",
       "501       34                34\n",
       "502        8                34\n",
       "503       34                34\n",
       "504       34                34\n",
       "..       ...               ...\n",
       "790       34                34\n",
       "791       34                34\n",
       "792       34                34\n",
       "793       34                34\n",
       "794       34                34\n",
       "\n",
       "[295 rows x 2 columns]"
      ]
     },
     "execution_count": 82,
     "metadata": {},
     "output_type": "execute_result"
    }
   ],
   "source": [
    "final_result[500:1000]"
   ]
  },
  {
   "cell_type": "code",
   "execution_count": 83,
   "metadata": {},
   "outputs": [
    {
     "data": {
      "text/plain": [
       "array([34])"
      ]
     },
     "execution_count": 83,
     "metadata": {},
     "output_type": "execute_result"
    }
   ],
   "source": [
    "estimated.unique()"
   ]
  },
  {
   "cell_type": "code",
   "execution_count": 84,
   "metadata": {},
   "outputs": [
    {
     "data": {
      "text/plain": [
       "'United States'"
      ]
     },
     "execution_count": 84,
     "metadata": {},
     "output_type": "execute_result"
    }
   ],
   "source": [
    "country_lables[34]"
   ]
  },
  {
   "cell_type": "code",
   "execution_count": 85,
   "metadata": {},
   "outputs": [
    {
     "data": {
      "text/html": [
       "<div>\n",
       "<style scoped>\n",
       "    .dataframe tbody tr th:only-of-type {\n",
       "        vertical-align: middle;\n",
       "    }\n",
       "\n",
       "    .dataframe tbody tr th {\n",
       "        vertical-align: top;\n",
       "    }\n",
       "\n",
       "    .dataframe thead th {\n",
       "        text-align: right;\n",
       "    }\n",
       "</style>\n",
       "<table border=\"1\" class=\"dataframe\">\n",
       "  <thead>\n",
       "    <tr style=\"text-align: right;\">\n",
       "      <th></th>\n",
       "      <th>budget</th>\n",
       "      <th>company</th>\n",
       "      <th>country</th>\n",
       "      <th>director</th>\n",
       "      <th>genre</th>\n",
       "      <th>gross</th>\n",
       "      <th>name</th>\n",
       "      <th>rating</th>\n",
       "      <th>runtime</th>\n",
       "      <th>score</th>\n",
       "      <th>star</th>\n",
       "      <th>votes</th>\n",
       "      <th>writer</th>\n",
       "      <th>year</th>\n",
       "      <th>year active</th>\n",
       "      <th>birth day</th>\n",
       "      <th>birth place</th>\n",
       "      <th>roles</th>\n",
       "      <th>died</th>\n",
       "      <th>gdp mean</th>\n",
       "    </tr>\n",
       "  </thead>\n",
       "  <tbody>\n",
       "    <tr>\n",
       "      <th>0</th>\n",
       "      <td>8000000.0</td>\n",
       "      <td>302</td>\n",
       "      <td>34</td>\n",
       "      <td>519</td>\n",
       "      <td>1</td>\n",
       "      <td>52287414.0</td>\n",
       "      <td>2186</td>\n",
       "      <td>6</td>\n",
       "      <td>89</td>\n",
       "      <td>8.1</td>\n",
       "      <td>1221</td>\n",
       "      <td>299174</td>\n",
       "      <td>1765</td>\n",
       "      <td>1986</td>\n",
       "      <td>77</td>\n",
       "      <td>239</td>\n",
       "      <td>382</td>\n",
       "      <td>20</td>\n",
       "      <td>0</td>\n",
       "      <td>1.016453e+07</td>\n",
       "    </tr>\n",
       "    <tr>\n",
       "      <th>1</th>\n",
       "      <td>16000000.0</td>\n",
       "      <td>28</td>\n",
       "      <td>34</td>\n",
       "      <td>519</td>\n",
       "      <td>1</td>\n",
       "      <td>30857814.0</td>\n",
       "      <td>2725</td>\n",
       "      <td>4</td>\n",
       "      <td>98</td>\n",
       "      <td>8.1</td>\n",
       "      <td>171</td>\n",
       "      <td>320953</td>\n",
       "      <td>1955</td>\n",
       "      <td>1987</td>\n",
       "      <td>77</td>\n",
       "      <td>239</td>\n",
       "      <td>382</td>\n",
       "      <td>20</td>\n",
       "      <td>0</td>\n",
       "      <td>1.016453e+07</td>\n",
       "    </tr>\n",
       "    <tr>\n",
       "      <th>2</th>\n",
       "      <td>16000000.0</td>\n",
       "      <td>244</td>\n",
       "      <td>34</td>\n",
       "      <td>519</td>\n",
       "      <td>4</td>\n",
       "      <td>92823600.0</td>\n",
       "      <td>3074</td>\n",
       "      <td>6</td>\n",
       "      <td>96</td>\n",
       "      <td>7.6</td>\n",
       "      <td>117</td>\n",
       "      <td>161347</td>\n",
       "      <td>1408</td>\n",
       "      <td>1989</td>\n",
       "      <td>77</td>\n",
       "      <td>239</td>\n",
       "      <td>382</td>\n",
       "      <td>20</td>\n",
       "      <td>0</td>\n",
       "      <td>1.016453e+07</td>\n",
       "    </tr>\n",
       "    <tr>\n",
       "      <th>3</th>\n",
       "      <td>20000000.0</td>\n",
       "      <td>244</td>\n",
       "      <td>34</td>\n",
       "      <td>519</td>\n",
       "      <td>5</td>\n",
       "      <td>61276872.0</td>\n",
       "      <td>1578</td>\n",
       "      <td>6</td>\n",
       "      <td>107</td>\n",
       "      <td>7.8</td>\n",
       "      <td>483</td>\n",
       "      <td>147278</td>\n",
       "      <td>1765</td>\n",
       "      <td>1990</td>\n",
       "      <td>77</td>\n",
       "      <td>239</td>\n",
       "      <td>382</td>\n",
       "      <td>20</td>\n",
       "      <td>0</td>\n",
       "      <td>1.016453e+07</td>\n",
       "    </tr>\n",
       "    <tr>\n",
       "      <th>4</th>\n",
       "      <td>40000000.0</td>\n",
       "      <td>302</td>\n",
       "      <td>34</td>\n",
       "      <td>519</td>\n",
       "      <td>6</td>\n",
       "      <td>141340178.0</td>\n",
       "      <td>48</td>\n",
       "      <td>6</td>\n",
       "      <td>138</td>\n",
       "      <td>7.7</td>\n",
       "      <td>1167</td>\n",
       "      <td>196002</td>\n",
       "      <td>5</td>\n",
       "      <td>1992</td>\n",
       "      <td>77</td>\n",
       "      <td>239</td>\n",
       "      <td>382</td>\n",
       "      <td>20</td>\n",
       "      <td>0</td>\n",
       "      <td>1.016453e+07</td>\n",
       "    </tr>\n",
       "    <tr>\n",
       "      <th>...</th>\n",
       "      <td>...</td>\n",
       "      <td>...</td>\n",
       "      <td>...</td>\n",
       "      <td>...</td>\n",
       "      <td>...</td>\n",
       "      <td>...</td>\n",
       "      <td>...</td>\n",
       "      <td>...</td>\n",
       "      <td>...</td>\n",
       "      <td>...</td>\n",
       "      <td>...</td>\n",
       "      <td>...</td>\n",
       "      <td>...</td>\n",
       "      <td>...</td>\n",
       "      <td>...</td>\n",
       "      <td>...</td>\n",
       "      <td>...</td>\n",
       "      <td>...</td>\n",
       "      <td>...</td>\n",
       "      <td>...</td>\n",
       "    </tr>\n",
       "    <tr>\n",
       "      <th>2336</th>\n",
       "      <td>2000000.0</td>\n",
       "      <td>185</td>\n",
       "      <td>34</td>\n",
       "      <td>554</td>\n",
       "      <td>6</td>\n",
       "      <td>43282.0</td>\n",
       "      <td>1449</td>\n",
       "      <td>6</td>\n",
       "      <td>95</td>\n",
       "      <td>5.8</td>\n",
       "      <td>210</td>\n",
       "      <td>13654</td>\n",
       "      <td>1678</td>\n",
       "      <td>2014</td>\n",
       "      <td>129</td>\n",
       "      <td>635</td>\n",
       "      <td>208</td>\n",
       "      <td>12</td>\n",
       "      <td>0</td>\n",
       "      <td>1.016453e+07</td>\n",
       "    </tr>\n",
       "    <tr>\n",
       "      <th>2337</th>\n",
       "      <td>2000000.0</td>\n",
       "      <td>246</td>\n",
       "      <td>34</td>\n",
       "      <td>378</td>\n",
       "      <td>6</td>\n",
       "      <td>1477002.0</td>\n",
       "      <td>2435</td>\n",
       "      <td>6</td>\n",
       "      <td>102</td>\n",
       "      <td>6.9</td>\n",
       "      <td>94</td>\n",
       "      <td>22916</td>\n",
       "      <td>1511</td>\n",
       "      <td>2015</td>\n",
       "      <td>140</td>\n",
       "      <td>634</td>\n",
       "      <td>227</td>\n",
       "      <td>314</td>\n",
       "      <td>0</td>\n",
       "      <td>1.016453e+07</td>\n",
       "    </tr>\n",
       "    <tr>\n",
       "      <th>2338</th>\n",
       "      <td>0.0</td>\n",
       "      <td>33</td>\n",
       "      <td>34</td>\n",
       "      <td>262</td>\n",
       "      <td>4</td>\n",
       "      <td>240067.0</td>\n",
       "      <td>2461</td>\n",
       "      <td>6</td>\n",
       "      <td>105</td>\n",
       "      <td>6.1</td>\n",
       "      <td>506</td>\n",
       "      <td>5585</td>\n",
       "      <td>1102</td>\n",
       "      <td>2015</td>\n",
       "      <td>111</td>\n",
       "      <td>563</td>\n",
       "      <td>338</td>\n",
       "      <td>51</td>\n",
       "      <td>0</td>\n",
       "      <td>1.016453e+07</td>\n",
       "    </tr>\n",
       "    <tr>\n",
       "      <th>2339</th>\n",
       "      <td>6000000.0</td>\n",
       "      <td>549</td>\n",
       "      <td>34</td>\n",
       "      <td>23</td>\n",
       "      <td>6</td>\n",
       "      <td>177680.0</td>\n",
       "      <td>2322</td>\n",
       "      <td>6</td>\n",
       "      <td>118</td>\n",
       "      <td>5.4</td>\n",
       "      <td>1118</td>\n",
       "      <td>8340</td>\n",
       "      <td>76</td>\n",
       "      <td>2016</td>\n",
       "      <td>146</td>\n",
       "      <td>0</td>\n",
       "      <td>226</td>\n",
       "      <td>279</td>\n",
       "      <td>0</td>\n",
       "      <td>1.016453e+07</td>\n",
       "    </tr>\n",
       "    <tr>\n",
       "      <th>2340</th>\n",
       "      <td>0.0</td>\n",
       "      <td>72</td>\n",
       "      <td>34</td>\n",
       "      <td>35</td>\n",
       "      <td>4</td>\n",
       "      <td>228894.0</td>\n",
       "      <td>2628</td>\n",
       "      <td>7</td>\n",
       "      <td>120</td>\n",
       "      <td>6.2</td>\n",
       "      <td>1034</td>\n",
       "      <td>6054</td>\n",
       "      <td>108</td>\n",
       "      <td>2016</td>\n",
       "      <td>0</td>\n",
       "      <td>0</td>\n",
       "      <td>212</td>\n",
       "      <td>275</td>\n",
       "      <td>0</td>\n",
       "      <td>1.016453e+07</td>\n",
       "    </tr>\n",
       "  </tbody>\n",
       "</table>\n",
       "<p>2341 rows × 20 columns</p>\n",
       "</div>"
      ],
      "text/plain": [
       "          budget  company  country  director  genre        gross  name  \\\n",
       "0      8000000.0      302       34       519      1   52287414.0  2186   \n",
       "1     16000000.0       28       34       519      1   30857814.0  2725   \n",
       "2     16000000.0      244       34       519      4   92823600.0  3074   \n",
       "3     20000000.0      244       34       519      5   61276872.0  1578   \n",
       "4     40000000.0      302       34       519      6  141340178.0    48   \n",
       "...          ...      ...      ...       ...    ...          ...   ...   \n",
       "2336   2000000.0      185       34       554      6      43282.0  1449   \n",
       "2337   2000000.0      246       34       378      6    1477002.0  2435   \n",
       "2338         0.0       33       34       262      4     240067.0  2461   \n",
       "2339   6000000.0      549       34        23      6     177680.0  2322   \n",
       "2340         0.0       72       34        35      4     228894.0  2628   \n",
       "\n",
       "      rating  runtime  score  star   votes  writer  year  year active  \\\n",
       "0          6       89    8.1  1221  299174    1765  1986           77   \n",
       "1          4       98    8.1   171  320953    1955  1987           77   \n",
       "2          6       96    7.6   117  161347    1408  1989           77   \n",
       "3          6      107    7.8   483  147278    1765  1990           77   \n",
       "4          6      138    7.7  1167  196002       5  1992           77   \n",
       "...      ...      ...    ...   ...     ...     ...   ...          ...   \n",
       "2336       6       95    5.8   210   13654    1678  2014          129   \n",
       "2337       6      102    6.9    94   22916    1511  2015          140   \n",
       "2338       6      105    6.1   506    5585    1102  2015          111   \n",
       "2339       6      118    5.4  1118    8340      76  2016          146   \n",
       "2340       7      120    6.2  1034    6054     108  2016            0   \n",
       "\n",
       "      birth day  birth place  roles  died      gdp mean  \n",
       "0           239          382     20     0  1.016453e+07  \n",
       "1           239          382     20     0  1.016453e+07  \n",
       "2           239          382     20     0  1.016453e+07  \n",
       "3           239          382     20     0  1.016453e+07  \n",
       "4           239          382     20     0  1.016453e+07  \n",
       "...         ...          ...    ...   ...           ...  \n",
       "2336        635          208     12     0  1.016453e+07  \n",
       "2337        634          227    314     0  1.016453e+07  \n",
       "2338        563          338     51     0  1.016453e+07  \n",
       "2339          0          226    279     0  1.016453e+07  \n",
       "2340          0          212    275     0  1.016453e+07  \n",
       "\n",
       "[2341 rows x 20 columns]"
      ]
     },
     "execution_count": 85,
     "metadata": {},
     "output_type": "execute_result"
    }
   ],
   "source": [
    " result_convert[result_convert['country'] == 34]"
   ]
  },
  {
   "cell_type": "markdown",
   "metadata": {},
   "source": [
    "###  Predict 'Roles' with SVM"
   ]
  },
  {
   "cell_type": "code",
   "execution_count": 86,
   "metadata": {},
   "outputs": [
    {
     "data": {
      "text/plain": [
       "SVC(C=1.0, break_ties=False, cache_size=200, class_weight=None, coef0=0.0,\n",
       "    decision_function_shape='ovr', degree=3, gamma=0.001, kernel='rbf',\n",
       "    max_iter=-1, probability=False, random_state=None, shrinking=True,\n",
       "    tol=0.001, verbose=False)"
      ]
     },
     "execution_count": 86,
     "metadata": {},
     "output_type": "execute_result"
    }
   ],
   "source": [
    "X_option = ['company', 'country', 'gross', 'name', 'year active', 'birth day', 'birth place', 'director', 'died']\n",
    "y_option = ['roles']\n",
    "\n",
    "X = result_convert[X_option]\n",
    "y = result_convert[y_option]\n",
    "\n",
    "from sklearn.model_selection import train_test_split\n",
    "X_train, X_test, y_train, y_test = train_test_split(X, y, test_size=0.25)\n",
    "\n",
    "model.fit(X_train, y_train.values.ravel())"
   ]
  },
  {
   "cell_type": "code",
   "execution_count": 87,
   "metadata": {},
   "outputs": [
    {
     "data": {
      "text/plain": [
       "0.06666666666666667"
      ]
     },
     "execution_count": 87,
     "metadata": {},
     "output_type": "execute_result"
    }
   ],
   "source": [
    "y_pred = model.predict(X_test)\n",
    "model.score(X_test, y_test)"
   ]
  },
  {
   "cell_type": "code",
   "execution_count": 90,
   "metadata": {},
   "outputs": [],
   "source": [
    "estimated = pd.Series(y_pred, name='Estimated Values')\n",
    "final_result = pd.concat([y_test.reset_index(drop=True), estimated.reset_index(drop=True)], axis=1)"
   ]
  },
  {
   "cell_type": "code",
   "execution_count": 91,
   "metadata": {},
   "outputs": [
    {
     "data": {
      "text/html": [
       "<div>\n",
       "<style scoped>\n",
       "    .dataframe tbody tr th:only-of-type {\n",
       "        vertical-align: middle;\n",
       "    }\n",
       "\n",
       "    .dataframe tbody tr th {\n",
       "        vertical-align: top;\n",
       "    }\n",
       "\n",
       "    .dataframe thead th {\n",
       "        text-align: right;\n",
       "    }\n",
       "</style>\n",
       "<table border=\"1\" class=\"dataframe\">\n",
       "  <thead>\n",
       "    <tr style=\"text-align: right;\">\n",
       "      <th></th>\n",
       "      <th>roles</th>\n",
       "      <th>Estimated Values</th>\n",
       "    </tr>\n",
       "  </thead>\n",
       "  <tbody>\n",
       "    <tr>\n",
       "      <th>0</th>\n",
       "      <td>143</td>\n",
       "      <td>295</td>\n",
       "    </tr>\n",
       "    <tr>\n",
       "      <th>1</th>\n",
       "      <td>301</td>\n",
       "      <td>295</td>\n",
       "    </tr>\n",
       "    <tr>\n",
       "      <th>2</th>\n",
       "      <td>113</td>\n",
       "      <td>295</td>\n",
       "    </tr>\n",
       "    <tr>\n",
       "      <th>3</th>\n",
       "      <td>149</td>\n",
       "      <td>295</td>\n",
       "    </tr>\n",
       "    <tr>\n",
       "      <th>4</th>\n",
       "      <td>344</td>\n",
       "      <td>295</td>\n",
       "    </tr>\n",
       "    <tr>\n",
       "      <th>...</th>\n",
       "      <td>...</td>\n",
       "      <td>...</td>\n",
       "    </tr>\n",
       "    <tr>\n",
       "      <th>790</th>\n",
       "      <td>124</td>\n",
       "      <td>295</td>\n",
       "    </tr>\n",
       "    <tr>\n",
       "      <th>791</th>\n",
       "      <td>52</td>\n",
       "      <td>295</td>\n",
       "    </tr>\n",
       "    <tr>\n",
       "      <th>792</th>\n",
       "      <td>266</td>\n",
       "      <td>295</td>\n",
       "    </tr>\n",
       "    <tr>\n",
       "      <th>793</th>\n",
       "      <td>341</td>\n",
       "      <td>295</td>\n",
       "    </tr>\n",
       "    <tr>\n",
       "      <th>794</th>\n",
       "      <td>58</td>\n",
       "      <td>295</td>\n",
       "    </tr>\n",
       "  </tbody>\n",
       "</table>\n",
       "<p>795 rows × 2 columns</p>\n",
       "</div>"
      ],
      "text/plain": [
       "     roles  Estimated Values\n",
       "0      143               295\n",
       "1      301               295\n",
       "2      113               295\n",
       "3      149               295\n",
       "4      344               295\n",
       "..     ...               ...\n",
       "790    124               295\n",
       "791     52               295\n",
       "792    266               295\n",
       "793    341               295\n",
       "794     58               295\n",
       "\n",
       "[795 rows x 2 columns]"
      ]
     },
     "execution_count": 91,
     "metadata": {},
     "output_type": "execute_result"
    }
   ],
   "source": [
    "final_result"
   ]
  },
  {
   "cell_type": "markdown",
   "metadata": {},
   "source": [
    "## Part III. DataVisualizations"
   ]
  },
  {
   "cell_type": "code",
   "execution_count": 92,
   "metadata": {},
   "outputs": [
    {
     "data": {
      "image/png": "[encoded data removed]",
      "text/plain": [
       "<Figure size 1440x720 with 1 Axes>"
      ]
     },
     "metadata": {
      "needs_background": "light"
     },
     "output_type": "display_data"
    }
   ],
   "source": [
    "plt.figure(figsize=(20,10))\n",
    "plt.hist(x=[result_convert.died], bins=200)\n",
    "plt.xlabel(\"Died lables\")\n",
    "plt.ylabel(\"numbers of Died\")\n",
    "plt.title(\"Movies of Died Distribution\")\n",
    "plt.show()"
   ]
  },
  {
   "cell_type": "code",
   "execution_count": 94,
   "metadata": {},
   "outputs": [],
   "source": [
    "### Country Distributuon"
   ]
  },
  {
   "cell_type": "code",
   "execution_count": 95,
   "metadata": {},
   "outputs": [
    {
     "data": {
      "image/png": "[encoded data removed]",
      "text/plain": [
       "<Figure size 1440x720 with 1 Axes>"
      ]
     },
     "metadata": {
      "needs_background": "light"
     },
     "output_type": "display_data"
    }
   ],
   "source": [
    "plt.figure(figsize=(20,10))\n",
    "plt.hist(x=[result_convert.country], bins=200)\n",
    "plt.xlabel(\"country lables\")\n",
    "plt.ylabel(\"numbers of countries\")\n",
    "plt.title(\"Movies of Country Distribution\")\n",
    "plt.show()"
   ]
  },
  {
   "cell_type": "markdown",
   "metadata": {},
   "source": [
    "### Director Distribution"
   ]
  },
  {
   "cell_type": "code",
   "execution_count": 96,
   "metadata": {},
   "outputs": [],
   "source": [
    "director_group = result_convert.groupby('director').size()"
   ]
  },
  {
   "cell_type": "code",
   "execution_count": 97,
   "metadata": {},
   "outputs": [
    {
     "data": {
      "text/plain": [
       "director\n",
       "0      1\n",
       "1      5\n",
       "2      1\n",
       "3      8\n",
       "4      6\n",
       "      ..\n",
       "668    2\n",
       "669    1\n",
       "670    1\n",
       "671    1\n",
       "672    7\n",
       "Length: 673, dtype: int64"
      ]
     },
     "execution_count": 97,
     "metadata": {},
     "output_type": "execute_result"
    }
   ],
   "source": [
    "director_group"
   ]
  },
  {
   "cell_type": "code",
   "execution_count": 98,
   "metadata": {},
   "outputs": [
    {
     "data": {
      "image/png": "[encoded data removed]",
      "text/plain": [
       "<Figure size 1440x720 with 1 Axes>"
      ]
     },
     "metadata": {
      "needs_background": "light"
     },
     "output_type": "display_data"
    }
   ],
   "source": [
    "plt.figure(figsize=(20,10))\n",
    "plt.hist(x=[result_convert.director], bins=200)\n",
    "plt.xlabel(\"direactor lables\")\n",
    "plt.ylabel(\"numbers of moves\")\n",
    "plt.title(\"Movies of Director Distribution\")\n",
    "plt.show()"
   ]
  },
  {
   "cell_type": "markdown",
   "metadata": {},
   "source": [
    "### Top 5 movies by score"
   ]
  },
  {
   "cell_type": "code",
   "execution_count": 99,
   "metadata": {},
   "outputs": [],
   "source": [
    "movie_score = result_convert.groupby(['name'], as_index=False)\n",
    "average_movie_score = movie_score.agg({'score':'mean'})\n",
    "top_5_movies = average_movie_score.sort_values('score', ascending=False).head(5)"
   ]
  },
  {
   "cell_type": "code",
   "execution_count": 100,
   "metadata": {},
   "outputs": [
    {
     "data": {
      "text/html": [
       "<div>\n",
       "<style scoped>\n",
       "    .dataframe tbody tr th:only-of-type {\n",
       "        vertical-align: middle;\n",
       "    }\n",
       "\n",
       "    .dataframe tbody tr th {\n",
       "        vertical-align: top;\n",
       "    }\n",
       "\n",
       "    .dataframe thead th {\n",
       "        text-align: right;\n",
       "    }\n",
       "</style>\n",
       "<table border=\"1\" class=\"dataframe\">\n",
       "  <thead>\n",
       "    <tr style=\"text-align: right;\">\n",
       "      <th></th>\n",
       "      <th>name</th>\n",
       "      <th>score</th>\n",
       "    </tr>\n",
       "  </thead>\n",
       "  <tbody>\n",
       "    <tr>\n",
       "      <th>2774</th>\n",
       "      <td>2774</td>\n",
       "      <td>9.3</td>\n",
       "    </tr>\n",
       "    <tr>\n",
       "      <th>2419</th>\n",
       "      <td>2419</td>\n",
       "      <td>9.0</td>\n",
       "    </tr>\n",
       "    <tr>\n",
       "      <th>2019</th>\n",
       "      <td>2019</td>\n",
       "      <td>8.9</td>\n",
       "    </tr>\n",
       "    <tr>\n",
       "      <th>1870</th>\n",
       "      <td>1870</td>\n",
       "      <td>8.9</td>\n",
       "    </tr>\n",
       "    <tr>\n",
       "      <th>2622</th>\n",
       "      <td>2622</td>\n",
       "      <td>8.9</td>\n",
       "    </tr>\n",
       "  </tbody>\n",
       "</table>\n",
       "</div>"
      ],
      "text/plain": [
       "      name  score\n",
       "2774  2774    9.3\n",
       "2419  2419    9.0\n",
       "2019  2019    8.9\n",
       "1870  1870    8.9\n",
       "2622  2622    8.9"
      ]
     },
     "execution_count": 100,
     "metadata": {},
     "output_type": "execute_result"
    }
   ],
   "source": [
    "top_5_movies"
   ]
  },
  {
   "cell_type": "code",
   "execution_count": 101,
   "metadata": {},
   "outputs": [
    {
     "name": "stdout",
     "output_type": "stream",
     "text": [
      "2774 :  The Shawshank Redemption\n",
      "2419 :  The Dark Knight\n",
      "2019 :  Schindler's List\n",
      "1870 :  Pulp Fiction\n",
      "2622 :  The Lord of the Rings: The Return of the King\n"
     ]
    }
   ],
   "source": [
    "# print move names\n",
    "for name_label in top_5_movies['name'].to_list():\n",
    "    name = name_lables[name_label]\n",
    "    print(name_label, \": \", name)"
   ]
  },
  {
   "cell_type": "markdown",
   "metadata": {},
   "source": [
    "### Movie Genre cluster by director"
   ]
  },
  {
   "cell_type": "code",
   "execution_count": 102,
   "metadata": {},
   "outputs": [
    {
     "data": {
      "image/png": "[encoded data removed]",
      "text/plain": [
       "<Figure size 1440x720 with 1 Axes>"
      ]
     },
     "metadata": {
      "needs_background": "light"
     },
     "output_type": "display_data"
    }
   ],
   "source": [
    "plt.figure(figsize=(20,10))\n",
    "plt.scatter(x=result_convert['genre'], y=result_convert['director'])\n",
    "plt.xlabel(\"genre lables\")\n",
    "plt.ylabel(\"director lables\")\n",
    "plt.title(\"Movies Genre of Director\")\n",
    "plt.show()"
   ]
  },
  {
   "cell_type": "code",
   "execution_count": 103,
   "metadata": {},
   "outputs": [
    {
     "data": {
      "text/plain": [
       "[1, 4, 5, 6, 0, 3, 9, 8, 10, 11, 2, 7, 14, 12, 15, 13]"
      ]
     },
     "execution_count": 103,
     "metadata": {},
     "output_type": "execute_result"
    }
   ],
   "source": [
    "list(result_convert['genre'].unique())"
   ]
  },
  {
   "cell_type": "code",
   "execution_count": 104,
   "metadata": {},
   "outputs": [
    {
     "data": {
      "text/plain": [
       "['Action',\n",
       " 'Adventure',\n",
       " 'Animation',\n",
       " 'Biography',\n",
       " 'Comedy',\n",
       " 'Crime',\n",
       " 'Drama',\n",
       " 'Family',\n",
       " 'Fantasy',\n",
       " 'Horror',\n",
       " 'Musical',\n",
       " 'Mystery',\n",
       " 'Romance',\n",
       " 'Sci-Fi',\n",
       " 'Thriller',\n",
       " 'War']"
      ]
     },
     "execution_count": 104,
     "metadata": {},
     "output_type": "execute_result"
    }
   ],
   "source": [
    "genre_lables"
   ]
  },
  {
   "cell_type": "markdown",
   "metadata": {},
   "source": [
    "### Movie Genre cluster by company"
   ]
  },
  {
   "cell_type": "code",
   "execution_count": 105,
   "metadata": {},
   "outputs": [
    {
     "data": {
      "image/png": "[encoded data removed]",
      "text/plain": [
       "<Figure size 1440x720 with 1 Axes>"
      ]
     },
     "metadata": {
      "needs_background": "light"
     },
     "output_type": "display_data"
    }
   ],
   "source": [
    "plt.figure(figsize=(20,10))\n",
    "plt.scatter(x=result_convert['company'], y=result_convert['genre'])\n",
    "plt.xlabel(\"genre lables\")\n",
    "plt.ylabel(\"company lables\")\n",
    "plt.title(\"Movies Genre of Company\")\n",
    "plt.show()"
   ]
  },
  {
   "cell_type": "markdown",
   "metadata": {},
   "source": [
    "# Movie Distribution of Company, Country, Director, Genre"
   ]
  },
  {
   "cell_type": "code",
   "execution_count": 106,
   "metadata": {},
   "outputs": [
    {
     "data": {
      "image/png": "[encoded data removed]",
      "text/plain": [
       "<Figure size 432x288 with 16 Axes>"
      ]
     },
     "metadata": {
      "needs_background": "light"
     },
     "output_type": "display_data"
    }
   ],
   "source": [
    "from pandas.plotting import scatter_matrix\n",
    "scatter_matrix(result_convert[['company', 'country', 'director', 'genre']])\n",
    "plt.show()"
   ]
  },
  {
   "cell_type": "code",
   "execution_count": 103,
   "metadata": {},
   "outputs": [
    {
     "data": {
      "image/png": "[encoded data removed]",
      "text/plain": [
       "<Figure size 432x288 with 16 Axes>"
      ]
     },
     "metadata": {
      "needs_background": "light"
     },
     "output_type": "display_data"
    }
   ],
   "source": [
    "from pandas.plotting import scatter_matrix\n",
    "scatter_matrix(result_convert[['budget', 'gross', 'score', 'votes']])\n",
    "plt.show()"
   ]
  }
 ],
 "metadata": {
  "kernelspec": {
   "display_name": "Python 3",
   "language": "python",
   "name": "python3"
  },
  "language_info": {
   "codemirror_mode": {
    "name": "ipython",
    "version": 3
   },
   "file_extension": ".py",
   "mimetype": "text/x-python",
   "name": "python",
   "nbconvert_exporter": "python",
   "pygments_lexer": "ipython3",
   "version": "3.8.2"
  }
 },
 "nbformat": 4,
 "nbformat_minor": 4
}
