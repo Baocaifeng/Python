{
 "cells": [
  {
   "cell_type": "code",
   "execution_count": 1,
   "metadata": {},
   "outputs": [],
   "source": [
    "import matplotlib.pyplot as plt\n",
    "import csv\n",
    "import random\n",
    "import numpy as np"
   ]
  },
  {
   "cell_type": "code",
   "execution_count": 2,
   "metadata": {},
   "outputs": [],
   "source": [
    "# generate dataset\n",
    "with open('student.csv', 'w', newline='') as outfile:\n",
    "    writer = csv.writer(outfile)\n",
    "    writer.writerow([\"StudentID\", \"Time\", \"Notes\"])\n",
    "    for i in range(1, 101):\n",
    "        student_id = \"'00\" + str(i)\n",
    "        if i < 10 :\n",
    "            student_id = \"'000\" + str(i)\n",
    "        time = random.randint(0,24)\n",
    "        if time < 4 :\n",
    "            note = time*10 + random.randint(0, 30)\n",
    "        elif time < 8 :\n",
    "            note = time*8 + random.randint(0, 20)\n",
    "        elif time < 12 :\n",
    "            note = time*6 + random.randint(0, 10)\n",
    "        elif time < 16 :\n",
    "            note = time*2 + 60 + random.randint(0, 10)\n",
    "        else:\n",
    "            note = 70 + time + random.randint(0, 5)\n",
    "    \n",
    "        writer.writerow([student_id, time, note])"
   ]
  },
  {
   "cell_type": "code",
   "execution_count": 3,
   "metadata": {},
   "outputs": [],
   "source": [
    "# open file\n",
    "time = []\n",
    "note = []\n",
    "\n",
    "with open('student.csv', 'r', newline='') as f:\n",
    "    reader = csv.reader(f)\n",
    "    rowNr = 0\n",
    "    for row in reader:\n",
    "        if rowNr >= 1:\n",
    "            time.append(int(row[1]))\n",
    "            note.append(int(row[2]))\n",
    "            pass\n",
    "        rowNr = rowNr + 1\n",
    "\n",
    "x = np.array(time)\n",
    "y = np.array(note)"
   ]
  },
  {
   "cell_type": "code",
   "execution_count": 4,
   "metadata": {},
   "outputs": [
    {
     "data": {
      "image/png": "[encoded data removed]",
      "text/plain": [
       "<Figure size 432x288 with 1 Axes>"
      ]
     },
     "metadata": {
      "needs_background": "light"
     },
     "output_type": "display_data"
    }
   ],
   "source": [
    "plt.scatter(x, y, marker='*', label='Real Note')\n",
    "plt.legend(loc=2)\n",
    "plt.draw()"
   ]
  },
  {
   "cell_type": "code",
   "execution_count": 5,
   "metadata": {},
   "outputs": [],
   "source": [
    "x_mean = np.mean(x)\n",
    "y_mean = np.mean(y)"
   ]
  },
  {
   "cell_type": "code",
   "execution_count": 6,
   "metadata": {},
   "outputs": [
    {
     "name": "stdout",
     "output_type": "stream",
     "text": [
      "a is:  2.9932380586994056\n",
      "b is:  33.283569921350455\n"
     ]
    }
   ],
   "source": [
    "num = 0\n",
    "d = 0\n",
    "for x_i, y_i in zip(x, y):\n",
    "    num += (x_i - x_mean) * (y_i - y_mean)\n",
    "    d += (x_i -x_mean)**2\n",
    "a = num/d\n",
    "b = y_mean -a * x_mean\n",
    "print(\"a is: \", a)\n",
    "print(\"b is: \", b)"
   ]
  },
  {
   "cell_type": "code",
   "execution_count": 7,
   "metadata": {},
   "outputs": [],
   "source": [
    "y_hat = a * x + b\n",
    "error = (y - y_hat)**2/y.shape[0] "
   ]
  },
  {
   "cell_type": "code",
   "execution_count": 8,
   "metadata": {},
   "outputs": [
    {
     "name": "stdout",
     "output_type": "stream",
     "text": [
      "the note is:  63.21595050834451\n"
     ]
    }
   ],
   "source": [
    "# predict\n",
    "# suppose a student's learning time is 10 hours, let's predict his note\n",
    "x_test = 10\n",
    "y_test = a * x_test + b\n",
    "print(\"the note is: \", y_test)"
   ]
  },
  {
   "cell_type": "code",
   "execution_count": 9,
   "metadata": {},
   "outputs": [
    {
     "data": {
      "image/png": "[encoded data removed]",
      "text/plain": [
       "<Figure size 432x288 with 1 Axes>"
      ]
     },
     "metadata": {
      "needs_background": "light"
     },
     "output_type": "display_data"
    }
   ],
   "source": [
    "plt.scatter(x, y, marker='*', label='Real Notes')\n",
    "plt.plot(x, y_hat, 'g--',label='Prefict Notes')\n",
    "plt.scatter(x, error, marker=\"+\", label='Error')\n",
    "plt.scatter(x_test, y_test, color='r', label='Test')\n",
    "plt.legend(loc=2)\n",
    "plt.draw()"
   ]
  }
 ],
 "metadata": {
  "kernelspec": {
   "display_name": "Python 3",
   "language": "python",
   "name": "python3"
  },
  "language_info": {
   "codemirror_mode": {
    "name": "ipython",
    "version": 3
   },
   "file_extension": ".py",
   "mimetype": "text/x-python",
   "name": "python",
   "nbconvert_exporter": "python",
   "pygments_lexer": "ipython3",
   "version": "3.8.2"
  }
 },
 "nbformat": 4,
 "nbformat_minor": 4
}
