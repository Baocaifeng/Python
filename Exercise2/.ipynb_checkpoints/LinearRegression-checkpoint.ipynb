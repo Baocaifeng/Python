{
 "cells": [
  {
   "cell_type": "code",
   "execution_count": 12,
   "metadata": {},
   "outputs": [],
   "source": [
    "#  import packages\n",
    "from __future__ import division\n",
    "from numpy import genfromtxt, array\n",
    "import csv\n",
    "import random"
   ]
  },
  {
   "cell_type": "code",
   "execution_count": 3,
   "metadata": {},
   "outputs": [],
   "source": [
    "# we are goning to use Linear equation of type y = mx + b\n",
    "# where m is slope, and b is y-intercept, a constant\n",
    "\n",
    "# use the error/ cost function and then minimize it\n",
    "def step_gradient(b_current, m_current, points, learningRate, iteration):\n",
    "    b_gradient = 0\n",
    "    m_gradient = 0\n",
    "    N = float(len(points))\n",
    "    for i in range(len(points)):\n",
    "        x = points[i,0]\n",
    "        y = points[i,1]\n",
    "        #  error funcion f(X)= ((y_initial-y_predicted)^2) / N\n",
    "        # (d)/(db)((y - (m x + b))^2/N) = (2 (b + m x - y))/N = - (2/N (-b -mx +y)) =  - (2/N (y - (mx+b))\n",
    "        b_gradient += - (2/N) * (y - ((m_current * x) + b_current))\n",
    "        # (d)/(db)((y - (m x + b))^2/N) = (2x (b + m x - y))/N = - (2x/N (-b -mx +y)) = - (2x/N (y - (mx+b))\n",
    "        m_gradient += - (2/N) * x * (y - ((m_current * x) + b_current))\n",
    "\n",
    "    new_b = b_current - (learningRate * b_gradient)\n",
    "    new_m = m_current - (learningRate * m_gradient)\n",
    "    return [new_b, new_m]"
   ]
  },
  {
   "cell_type": "code",
   "execution_count": 4,
   "metadata": {},
   "outputs": [],
   "source": [
    "def gradient_descent_runner(points, starting_b, starting_m, learning_rate, num_iterations):\n",
    "    b1 = starting_b\n",
    "    m1 = starting_m\n",
    "    for i in range(num_iterations):\n",
    "        b1, m1 = step_gradient(b1, m1, array(points), learning_rate, i)\n",
    "    return [b1, m1]"
   ]
  },
  {
   "cell_type": "code",
   "execution_count": 5,
   "metadata": {},
   "outputs": [],
   "source": [
    "# The Square of Error function\n",
    "def compute_error(b, m, points):\n",
    "    totalError = 0\n",
    "    error = 0\n",
    "    for i in range(0, len(points)):\n",
    "        x = points[i,0]\n",
    "        y = points[i,1]\n",
    "        # Error funcion f(x) = ((y_initial - y_predicted)^2) / Number of data rows\n",
    "        error = ((y - (m*x + b)) ** 2) / len(points)\n",
    "        totalError += error / len(points)\n",
    "        print(\"At Row {0}, using b = {1} and m = {2}, Error = {3}\".format(i, b, m, error))\n",
    "    print(\"\\n Total Error is: {0}\".format(totalError))\n",
    "    return error, totalError"
   ]
  },
  {
   "cell_type": "code",
   "execution_count": 105,
   "metadata": {},
   "outputs": [],
   "source": [
    "# generate dataset\n",
    "with open('student.csv', 'w', newline='') as outfile:\n",
    "    writer = csv.writer(outfile)\n",
    "    writer.writerow([\"StudentID\", \"Time\", \"Notes\"])\n",
    "    for i in range(1, 101):\n",
    "        student_id = \"'00\" + str(i)\n",
    "        if i < 10 :\n",
    "            student_id = \"'000\" + str(i)\n",
    "            pass\n",
    "        writer.writerow([student_id, random.randint(0,25), random.randint(0,101)])"
   ]
  },
  {
   "cell_type": "code",
   "execution_count": 95,
   "metadata": {},
   "outputs": [],
   "source": [
    "with open('employee_file.csv', mode='w', newline='') as employee_file:\n",
    "    employee_writer = csv.writer(employee_file, delimiter=',', quotechar='\"', quoting=csv.QUOTE_MINIMAL)\n",
    "\n",
    "    employee_writer.writerow(['John Smith', 'Accounting', 'November'])\n",
    "    employee_writer.writerow(['Erica Meyers', 'IT', 'March'])"
   ]
  },
  {
   "cell_type": "code",
   "execution_count": 91,
   "metadata": {},
   "outputs": [
    {
     "name": "stdout",
     "output_type": "stream",
     "text": [
      "Column names are John Smith, Accounting, November\n",
      "Processed 4 lines.\n"
     ]
    }
   ],
   "source": [
    "with open('employee_file.csv', 'r') as csv_file:\n",
    "    csv_reader = csv.reader(csv_file, delimiter=',')\n",
    "    line_count = 0\n",
    "    for row in csv_reader:\n",
    "        if line_count == 0:\n",
    "            print(f'Column names are {\", \".join(row)}')\n",
    "            line_count += 1\n",
    "        else:\n",
    "            line_count += 1\n",
    "    print(f'Processed {line_count} lines.')"
   ]
  },
  {
   "cell_type": "code",
   "execution_count": 94,
   "metadata": {},
   "outputs": [
    {
     "name": "stdout",
     "output_type": "stream",
     "text": [
      "['Name', 'Profession']\n",
      "[]\n",
      "['Derek', 'Software Developer']\n",
      "[]\n",
      "['Steve', 'Software Developer']\n",
      "[]\n",
      "['Paul', 'Manager']\n",
      "[]\n"
     ]
    }
   ],
   "source": [
    "# open file\n",
    "with open('persons.csv', 'r') as f:\n",
    "    reader = csv.reader(f)\n",
    "\n",
    "    # read file row by row\n",
    "    for row in reader:\n",
    "        print(row)"
   ]
  },
  {
   "cell_type": "code",
   "execution_count": 72,
   "metadata": {},
   "outputs": [],
   "source": [
    "points = csv.reader(\"student2.csv\", delimiter=\",\")"
   ]
  },
  {
   "cell_type": "code",
   "execution_count": 73,
   "metadata": {},
   "outputs": [
    {
     "data": {
      "text/plain": [
       "<_csv.reader at 0x21e28a98f40>"
      ]
     },
     "execution_count": 73,
     "metadata": {},
     "output_type": "execute_result"
    }
   ],
   "source": [
    "points"
   ]
  },
  {
   "cell_type": "code",
   "execution_count": 76,
   "metadata": {},
   "outputs": [],
   "source": [
    "points = genfromtxt(\"student2.csv\", delimiter=\",\")"
   ]
  },
  {
   "cell_type": "code",
   "execution_count": 77,
   "metadata": {},
   "outputs": [
    {
     "data": {
      "text/plain": [
       "array([[ 15.,  35.],\n",
       "       [  2.,  40.],\n",
       "       [ 24.,  13.],\n",
       "       [ 14.,   5.],\n",
       "       [ 17.,  39.],\n",
       "       [  9.,  30.],\n",
       "       [ 16.,  25.],\n",
       "       [  4.,  81.],\n",
       "       [ 14.,  44.],\n",
       "       [ 15.,  53.],\n",
       "       [ 17.,  46.],\n",
       "       [ 14.,  90.],\n",
       "       [ 12., 101.],\n",
       "       [ 24.,  35.],\n",
       "       [ 15.,   7.],\n",
       "       [ 23.,  98.],\n",
       "       [  0.,  42.],\n",
       "       [ 14.,  72.],\n",
       "       [ 10.,  32.],\n",
       "       [ 24.,  27.],\n",
       "       [  0.,  42.],\n",
       "       [ 13.,  31.],\n",
       "       [ 17.,  66.],\n",
       "       [ 16.,  14.],\n",
       "       [ 25.,  51.],\n",
       "       [  6.,  30.],\n",
       "       [ 14.,  96.],\n",
       "       [  8.,  32.],\n",
       "       [  4.,  28.],\n",
       "       [ 12.,  46.],\n",
       "       [ 20.,  44.],\n",
       "       [  5.,  99.],\n",
       "       [ 24.,  99.],\n",
       "       [  8.,  47.],\n",
       "       [ 25.,   0.],\n",
       "       [  0.,  11.],\n",
       "       [  8.,  99.],\n",
       "       [ 23.,   8.],\n",
       "       [  3.,   7.],\n",
       "       [ 23.,  38.],\n",
       "       [  4.,  32.],\n",
       "       [  6.,  10.],\n",
       "       [ 12.,  46.],\n",
       "       [  4.,  12.],\n",
       "       [  7.,   6.],\n",
       "       [  6.,  35.],\n",
       "       [ 20.,  12.],\n",
       "       [ 13.,  83.],\n",
       "       [ 25.,  10.],\n",
       "       [ 20.,  37.],\n",
       "       [ 20.,  16.],\n",
       "       [  8.,  10.],\n",
       "       [ 13.,  22.],\n",
       "       [ 23.,  96.],\n",
       "       [ 25.,  87.],\n",
       "       [ 10.,  39.],\n",
       "       [ 13.,  13.],\n",
       "       [ 22.,  40.],\n",
       "       [  2.,  28.],\n",
       "       [  9.,  35.],\n",
       "       [ 11.,  64.],\n",
       "       [ 10.,  74.],\n",
       "       [ 10.,  29.],\n",
       "       [  2.,  31.],\n",
       "       [  2.,  32.],\n",
       "       [  3.,  62.],\n",
       "       [  6.,  32.],\n",
       "       [  3., 100.],\n",
       "       [ 23.,  10.],\n",
       "       [ 24.,   5.],\n",
       "       [  4.,  87.],\n",
       "       [  7.,  71.],\n",
       "       [  3.,  42.],\n",
       "       [ 14.,  22.],\n",
       "       [  1.,  77.],\n",
       "       [ 18.,  94.],\n",
       "       [ 14.,  39.],\n",
       "       [ 14.,  68.],\n",
       "       [  8.,   1.],\n",
       "       [  0.,  96.],\n",
       "       [ 13.,   9.],\n",
       "       [ 20.,  93.],\n",
       "       [ 25.,  12.],\n",
       "       [ 18.,  65.],\n",
       "       [  7.,  65.],\n",
       "       [ 17.,  58.],\n",
       "       [ 23.,  95.],\n",
       "       [  7.,  34.],\n",
       "       [  6.,  32.],\n",
       "       [ 12.,  91.],\n",
       "       [  0.,  21.],\n",
       "       [ 12.,  11.],\n",
       "       [  3., 100.],\n",
       "       [ 14.,  29.],\n",
       "       [ 19.,   8.],\n",
       "       [ 10.,  77.],\n",
       "       [ 12.,  22.]])"
      ]
     },
     "execution_count": 77,
     "metadata": {},
     "output_type": "execute_result"
    }
   ],
   "source": [
    "points[3:]"
   ]
  },
  {
   "cell_type": "code",
   "execution_count": 78,
   "metadata": {},
   "outputs": [],
   "source": [
    "learning_rate = 0.01\n",
    "initial_b = 1\n",
    "initial_m = 1\n",
    "num_iterations = 100"
   ]
  },
  {
   "cell_type": "code",
   "execution_count": 79,
   "metadata": {},
   "outputs": [
    {
     "name": "stdout",
     "output_type": "stream",
     "text": [
      "At Row 0, using b = 1 and m = 1, Error = 3.7216494845360826\n",
      "At Row 1, using b = 1 and m = 1, Error = 14.11340206185567\n",
      "At Row 2, using b = 1 and m = 1, Error = 1.4845360824742269\n",
      "At Row 3, using b = 1 and m = 1, Error = 1.0309278350515463\n",
      "At Row 4, using b = 1 and m = 1, Error = 4.546391752577319\n",
      "At Row 5, using b = 1 and m = 1, Error = 4.123711340206185\n",
      "At Row 6, using b = 1 and m = 1, Error = 0.6597938144329897\n",
      "At Row 7, using b = 1 and m = 1, Error = 59.54639175257732\n",
      "At Row 8, using b = 1 and m = 1, Error = 8.670103092783505\n",
      "At Row 9, using b = 1 and m = 1, Error = 14.11340206185567\n",
      "At Row 10, using b = 1 and m = 1, Error = 8.082474226804123\n",
      "At Row 11, using b = 1 and m = 1, Error = 57.98969072164948\n",
      "At Row 12, using b = 1 and m = 1, Error = 79.83505154639175\n",
      "At Row 13, using b = 1 and m = 1, Error = 1.0309278350515463\n",
      "At Row 14, using b = 1 and m = 1, Error = 0.8350515463917526\n",
      "At Row 15, using b = 1 and m = 1, Error = 56.45360824742268\n",
      "At Row 16, using b = 1 and m = 1, Error = 17.329896907216494\n",
      "At Row 17, using b = 1 and m = 1, Error = 33.49484536082474\n",
      "At Row 18, using b = 1 and m = 1, Error = 4.546391752577319\n",
      "At Row 19, using b = 1 and m = 1, Error = 0.041237113402061855\n",
      "At Row 20, using b = 1 and m = 1, Error = 17.329896907216494\n",
      "At Row 21, using b = 1 and m = 1, Error = 2.979381443298969\n",
      "At Row 22, using b = 1 and m = 1, Error = 23.75257731958763\n",
      "At Row 23, using b = 1 and m = 1, Error = 0.09278350515463918\n",
      "At Row 24, using b = 1 and m = 1, Error = 6.443298969072165\n",
      "At Row 25, using b = 1 and m = 1, Error = 5.453608247422681\n",
      "At Row 26, using b = 1 and m = 1, Error = 67.63917525773196\n",
      "At Row 27, using b = 1 and m = 1, Error = 5.453608247422681\n",
      "At Row 28, using b = 1 and m = 1, Error = 5.453608247422681\n",
      "At Row 29, using b = 1 and m = 1, Error = 11.22680412371134\n",
      "At Row 30, using b = 1 and m = 1, Error = 5.453608247422681\n",
      "At Row 31, using b = 1 and m = 1, Error = 89.16494845360825\n",
      "At Row 32, using b = 1 and m = 1, Error = 56.45360824742268\n",
      "At Row 33, using b = 1 and m = 1, Error = 14.88659793814433\n",
      "At Row 34, using b = 1 and m = 1, Error = 6.969072164948454\n",
      "At Row 35, using b = 1 and m = 1, Error = 1.0309278350515463\n",
      "At Row 36, using b = 1 and m = 1, Error = 83.50515463917526\n",
      "At Row 37, using b = 1 and m = 1, Error = 2.6391752577319587\n",
      "At Row 38, using b = 1 and m = 1, Error = 0.09278350515463918\n",
      "At Row 39, using b = 1 and m = 1, Error = 2.020618556701031\n",
      "At Row 40, using b = 1 and m = 1, Error = 7.515463917525773\n",
      "At Row 41, using b = 1 and m = 1, Error = 0.09278350515463918\n",
      "At Row 42, using b = 1 and m = 1, Error = 11.22680412371134\n",
      "At Row 43, using b = 1 and m = 1, Error = 0.5051546391752577\n",
      "At Row 44, using b = 1 and m = 1, Error = 0.041237113402061855\n",
      "At Row 45, using b = 1 and m = 1, Error = 8.082474226804123\n",
      "At Row 46, using b = 1 and m = 1, Error = 0.8350515463917526\n",
      "At Row 47, using b = 1 and m = 1, Error = 49.08247422680412\n",
      "At Row 48, using b = 1 and m = 1, Error = 2.6391752577319587\n",
      "At Row 49, using b = 1 and m = 1, Error = 2.6391752577319587\n",
      "At Row 50, using b = 1 and m = 1, Error = 0.25773195876288657\n",
      "At Row 51, using b = 1 and m = 1, Error = 0.010309278350515464\n",
      "At Row 52, using b = 1 and m = 1, Error = 0.6597938144329897\n",
      "At Row 53, using b = 1 and m = 1, Error = 53.44329896907217\n",
      "At Row 54, using b = 1 and m = 1, Error = 38.36082474226804\n",
      "At Row 55, using b = 1 and m = 1, Error = 8.082474226804123\n",
      "At Row 56, using b = 1 and m = 1, Error = 0.010309278350515464\n",
      "At Row 57, using b = 1 and m = 1, Error = 2.979381443298969\n",
      "At Row 58, using b = 1 and m = 1, Error = 6.443298969072165\n",
      "At Row 59, using b = 1 and m = 1, Error = 6.443298969072165\n",
      "At Row 60, using b = 1 and m = 1, Error = 27.876288659793815\n",
      "At Row 61, using b = 1 and m = 1, Error = 40.91752577319588\n",
      "At Row 62, using b = 1 and m = 1, Error = 3.3402061855670104\n",
      "At Row 63, using b = 1 and m = 1, Error = 8.082474226804123\n",
      "At Row 64, using b = 1 and m = 1, Error = 8.670103092783505\n",
      "At Row 65, using b = 1 and m = 1, Error = 34.68041237113402\n",
      "At Row 66, using b = 1 and m = 1, Error = 6.443298969072165\n",
      "At Row 67, using b = 1 and m = 1, Error = 95.01030927835052\n",
      "At Row 68, using b = 1 and m = 1, Error = 2.020618556701031\n",
      "At Row 69, using b = 1 and m = 1, Error = 4.123711340206185\n",
      "At Row 70, using b = 1 and m = 1, Error = 69.31958762886597\n",
      "At Row 71, using b = 1 and m = 1, Error = 40.91752577319588\n",
      "At Row 72, using b = 1 and m = 1, Error = 14.88659793814433\n",
      "At Row 73, using b = 1 and m = 1, Error = 0.5051546391752577\n",
      "At Row 74, using b = 1 and m = 1, Error = 57.98969072164948\n",
      "At Row 75, using b = 1 and m = 1, Error = 57.98969072164948\n",
      "At Row 76, using b = 1 and m = 1, Error = 5.938144329896907\n",
      "At Row 77, using b = 1 and m = 1, Error = 28.95876288659794\n",
      "At Row 78, using b = 1 and m = 1, Error = 0.6597938144329897\n",
      "At Row 79, using b = 1 and m = 1, Error = 93.04123711340206\n",
      "At Row 80, using b = 1 and m = 1, Error = 0.25773195876288657\n",
      "At Row 81, using b = 1 and m = 1, Error = 53.44329896907217\n",
      "At Row 82, using b = 1 and m = 1, Error = 2.020618556701031\n",
      "At Row 83, using b = 1 and m = 1, Error = 21.814432989690722\n",
      "At Row 84, using b = 1 and m = 1, Error = 33.49484536082474\n",
      "At Row 85, using b = 1 and m = 1, Error = 16.49484536082474\n",
      "At Row 86, using b = 1 and m = 1, Error = 51.96907216494845\n",
      "At Row 87, using b = 1 and m = 1, Error = 6.969072164948454\n",
      "At Row 88, using b = 1 and m = 1, Error = 6.443298969072165\n",
      "At Row 89, using b = 1 and m = 1, Error = 62.72164948453608\n",
      "At Row 90, using b = 1 and m = 1, Error = 4.123711340206185\n",
      "At Row 91, using b = 1 and m = 1, Error = 0.041237113402061855\n",
      "At Row 92, using b = 1 and m = 1, Error = 95.01030927835052\n",
      "At Row 93, using b = 1 and m = 1, Error = 2.020618556701031\n",
      "At Row 94, using b = 1 and m = 1, Error = 1.4845360824742269\n",
      "At Row 95, using b = 1 and m = 1, Error = 44.90721649484536\n",
      "At Row 96, using b = 1 and m = 1, Error = 0.8350515463917526\n",
      "\n",
      " Total Error is: 20.45839090232756\n"
     ]
    },
    {
     "data": {
      "text/plain": [
       "(0.8350515463917526, 20.45839090232756)"
      ]
     },
     "execution_count": 79,
     "metadata": {},
     "output_type": "execute_result"
    }
   ],
   "source": [
    "compute_error(initial_b, initial_m,points[3:])"
   ]
  },
  {
   "cell_type": "code",
   "execution_count": 80,
   "metadata": {},
   "outputs": [],
   "source": [
    "[b,m] = gradient_descent_runner(points[3:], initial_b, initial_m, learning_rate, num_iterations)"
   ]
  },
  {
   "cell_type": "code",
   "execution_count": 81,
   "metadata": {},
   "outputs": [
    {
     "name": "stdout",
     "output_type": "stream",
     "text": [
      "-1.022861369264993e+49 -1.7225790127143256e+50\n"
     ]
    }
   ],
   "source": [
    "print(b,m)"
   ]
  },
  {
   "cell_type": "code",
   "execution_count": 82,
   "metadata": {},
   "outputs": [
    {
     "name": "stdout",
     "output_type": "stream",
     "text": [
      "At Row 0, using b = -1.022861369264993e+49 and m = -1.7225790127143256e+50, Error = 6.937463849706314e+100\n",
      "At Row 1, using b = -1.022861369264993e+49 and m = -1.7225790127143256e+50, Error = 1.2973567097966637e+99\n",
      "At Row 2, using b = -1.022861369264993e+49 and m = -1.7225790127143256e+50, Error = 1.7707425343212468e+101\n",
      "At Row 3, using b = -1.022861369264993e+49 and m = -1.7225790127143256e+50, Error = 6.04670645690431e+100\n",
      "At Row 4, using b = -1.022861369264993e+49 and m = -1.7225790127143256e+50, Error = 8.902521632529528e+100\n",
      "At Row 5, using b = -1.022861369264993e+49 and m = -1.7225790127143256e+50, Error = 2.510634478990329e+100\n",
      "At Row 6, using b = -1.022861369264993e+49 and m = -1.7225790127143256e+50, Error = 7.889402241581386e+100\n",
      "At Row 7, using b = -1.022861369264993e+49 and m = -1.7225790127143256e+50, Error = 5.040874779030806e+99\n",
      "At Row 8, using b = -1.022861369264993e+49 and m = -1.7225790127143256e+50, Error = 6.04670645690431e+100\n",
      "At Row 9, using b = -1.022861369264993e+49 and m = -1.7225790127143256e+50, Error = 6.937463849706314e+100\n",
      "At Row 10, using b = -1.022861369264993e+49 and m = -1.7225790127143256e+50, Error = 8.902521632529528e+100\n",
      "At Row 11, using b = -1.022861369264993e+49 and m = -1.7225790127143256e+50, Error = 6.04670645690431e+100\n",
      "At Row 12, using b = -1.022861369264993e+49 and m = -1.7225790127143256e+50, Error = 4.448734668519509e+100\n",
      "At Row 13, using b = -1.022861369264993e+49 and m = -1.7225790127143256e+50, Error = 1.7707425343212468e+101\n",
      "At Row 14, using b = -1.022861369264993e+49 and m = -1.7225790127143256e+50, Error = 6.937463849706314e+100\n",
      "At Row 15, using b = -1.022861369264993e+49 and m = -1.7225790127143256e+50, Error = 1.6266038958752837e+101\n",
      "At Row 16, using b = -1.022861369264993e+49 and m = -1.7225790127143256e+50, Error = 1.0786034852934602e+96\n",
      "At Row 17, using b = -1.022861369264993e+49 and m = -1.7225790127143256e+50, Error = 6.04670645690431e+100\n",
      "At Row 18, using b = -1.022861369264993e+49 and m = -1.7225790127143256e+50, Error = 3.095486876426986e+100\n",
      "At Row 19, using b = -1.022861369264993e+49 and m = -1.7225790127143256e+50, Error = 1.7707425343212468e+101\n",
      "At Row 20, using b = -1.022861369264993e+49 and m = -1.7225790127143256e+50, Error = 1.0786034852934602e+96\n",
      "At Row 21, using b = -1.022861369264993e+49 and m = -1.7225790127143256e+50, Error = 5.217130063175375e+100\n",
      "At Row 22, using b = -1.022861369264993e+49 and m = -1.7225790127143256e+50, Error = 8.902521632529528e+100\n",
      "At Row 23, using b = -1.022861369264993e+49 and m = -1.7225790127143256e+50, Error = 7.889402241581386e+100\n",
      "At Row 24, using b = -1.022861369264993e+49 and m = -1.7225790127143256e+50, Error = 1.920999272674516e+101\n",
      "At Row 25, using b = -1.022861369264993e+49 and m = -1.7225790127143256e+50, Error = 1.1231632811187722e+100\n",
      "At Row 26, using b = -1.022861369264993e+49 and m = -1.7225790127143256e+50, Error = 6.04670645690431e+100\n",
      "At Row 27, using b = -1.022861369264993e+49 and m = -1.7225790127143256e+50, Error = 1.9869630806267407e+100\n",
      "At Row 28, using b = -1.022861369264993e+49 and m = -1.7225790127143256e+50, Error = 5.040874779030806e+99\n",
      "At Row 29, using b = -1.022861369264993e+49 and m = -1.7225790127143256e+50, Error = 4.448734668519509e+100\n",
      "At Row 30, using b = -1.022861369264993e+49 and m = -1.7225790127143256e+50, Error = 1.230896579981237e+101\n",
      "At Row 31, using b = -1.022861369264993e+49 and m = -1.7225790127143256e+50, Error = 7.830348799743916e+99\n",
      "At Row 32, using b = -1.022861369264993e+49 and m = -1.7225790127143256e+50, Error = 1.7707425343212468e+101\n",
      "At Row 33, using b = -1.022861369264993e+49 and m = -1.7225790127143256e+50, Error = 1.9869630806267407e+100\n",
      "At Row 34, using b = -1.022861369264993e+49 and m = -1.7225790127143256e+50, Error = 1.920999272674516e+101\n",
      "At Row 35, using b = -1.022861369264993e+49 and m = -1.7225790127143256e+50, Error = 1.0786034852934602e+96\n",
      "At Row 36, using b = -1.022861369264993e+49 and m = -1.7225790127143256e+50, Error = 1.9869630806267407e+100\n",
      "At Row 37, using b = -1.022861369264993e+49 and m = -1.7225790127143256e+50, Error = 1.6266038958752837e+101\n",
      "At Row 38, using b = -1.022861369264993e+49 and m = -1.7225790127143256e+50, Error = 2.8632107490483886e+99\n",
      "At Row 39, using b = -1.022861369264993e+49 and m = -1.7225790127143256e+50, Error = 1.6266038958752837e+101\n",
      "At Row 40, using b = -1.022861369264993e+49 and m = -1.7225790127143256e+50, Error = 5.040874779030806e+99\n",
      "At Row 41, using b = -1.022861369264993e+49 and m = -1.7225790127143256e+50, Error = 1.1231632811187722e+100\n",
      "At Row 42, using b = -1.022861369264993e+49 and m = -1.7225790127143256e+50, Error = 4.448734668519509e+100\n",
      "At Row 43, using b = -1.022861369264993e+49 and m = -1.7225790127143256e+50, Error = 5.040874779030806e+99\n",
      "At Row 44, using b = -1.022861369264993e+49 and m = -1.7225790127143256e+50, Error = 1.5244726813362217e+100\n",
      "At Row 45, using b = -1.022861369264993e+49 and m = -1.7225790127143256e+50, Error = 1.1231632811187722e+100\n",
      "At Row 46, using b = -1.022861369264993e+49 and m = -1.7225790127143256e+50, Error = 1.230896579981237e+101\n",
      "At Row 47, using b = -1.022861369264993e+49 and m = -1.7225790127143256e+50, Error = 5.217130063175375e+100\n",
      "At Row 48, using b = -1.022861369264993e+49 and m = -1.7225790127143256e+50, Error = 1.920999272674516e+101\n",
      "At Row 49, using b = -1.022861369264993e+49 and m = -1.7225790127143256e+50, Error = 1.230896579981237e+101\n",
      "At Row 50, using b = -1.022861369264993e+49 and m = -1.7225790127143256e+50, Error = 1.230896579981237e+101\n",
      "At Row 51, using b = -1.022861369264993e+49 and m = -1.7225790127143256e+50, Error = 1.9869630806267407e+100\n",
      "At Row 52, using b = -1.022861369264993e+49 and m = -1.7225790127143256e+50, Error = 5.217130063175375e+100\n",
      "At Row 53, using b = -1.022861369264993e+49 and m = -1.7225790127143256e+50, Error = 1.6266038958752837e+101\n",
      "At Row 54, using b = -1.022861369264993e+49 and m = -1.7225790127143256e+50, Error = 1.920999272674516e+101\n",
      "At Row 55, using b = -1.022861369264993e+49 and m = -1.7225790127143256e+50, Error = 3.095486876426986e+100\n",
      "At Row 56, using b = -1.022861369264993e+49 and m = -1.7225790127143256e+50, Error = 5.217130063175375e+100\n",
      "At Row 57, using b = -1.022861369264993e+49 and m = -1.7225790127143256e+50, Error = 1.4885833573366277e+101\n",
      "At Row 58, using b = -1.022861369264993e+49 and m = -1.7225790127143256e+50, Error = 1.2973567097966637e+99\n",
      "At Row 59, using b = -1.022861369264993e+49 and m = -1.7225790127143256e+50, Error = 2.510634478990329e+100\n",
      "At Row 60, using b = -1.022861369264993e+49 and m = -1.7225790127143256e+50, Error = 3.741520272936713e+100\n",
      "At Row 61, using b = -1.022861369264993e+49 and m = -1.7225790127143256e+50, Error = 3.095486876426986e+100\n",
      "At Row 62, using b = -1.022861369264993e+49 and m = -1.7225790127143256e+50, Error = 3.095486876426986e+100\n",
      "At Row 63, using b = -1.022861369264993e+49 and m = -1.7225790127143256e+50, Error = 1.2973567097966637e+99\n",
      "At Row 64, using b = -1.022861369264993e+49 and m = -1.7225790127143256e+50, Error = 1.2973567097966637e+99\n",
      "At Row 65, using b = -1.022861369264993e+49 and m = -1.7225790127143256e+50, Error = 2.8632107490483886e+99\n",
      "At Row 66, using b = -1.022861369264993e+49 and m = -1.7225790127143256e+50, Error = 1.1231632811187722e+100\n",
      "At Row 67, using b = -1.022861369264993e+49 and m = -1.7225790127143256e+50, Error = 2.8632107490483886e+99\n",
      "At Row 68, using b = -1.022861369264993e+49 and m = -1.7225790127143256e+50, Error = 1.6266038958752837e+101\n",
      "At Row 69, using b = -1.022861369264993e+49 and m = -1.7225790127143256e+50, Error = 1.7707425343212468e+101\n",
      "At Row 70, using b = -1.022861369264993e+49 and m = -1.7225790127143256e+50, Error = 5.040874779030806e+99\n",
      "At Row 71, using b = -1.022861369264993e+49 and m = -1.7225790127143256e+50, Error = 1.5244726813362217e+100\n",
      "At Row 72, using b = -1.022861369264993e+49 and m = -1.7225790127143256e+50, Error = 2.8632107490483886e+99\n",
      "At Row 73, using b = -1.022861369264993e+49 and m = -1.7225790127143256e+50, Error = 6.04670645690431e+100\n",
      "At Row 74, using b = -1.022861369264993e+49 and m = -1.7225790127143256e+50, Error = 3.43312661275632e+98\n",
      "At Row 75, using b = -1.022861369264993e+49 and m = -1.7225790127143256e+50, Error = 9.976822022550738e+100\n",
      "At Row 76, using b = -1.022861369264993e+49 and m = -1.7225790127143256e+50, Error = 6.04670645690431e+100\n",
      "At Row 77, using b = -1.022861369264993e+49 and m = -1.7225790127143256e+50, Error = 6.04670645690431e+100\n",
      "At Row 78, using b = -1.022861369264993e+49 and m = -1.7225790127143256e+50, Error = 1.9869630806267407e+100\n",
      "At Row 79, using b = -1.022861369264993e+49 and m = -1.7225790127143256e+50, Error = 1.0786034852934602e+96\n",
      "At Row 80, using b = -1.022861369264993e+49 and m = -1.7225790127143256e+50, Error = 5.217130063175375e+100\n",
      "At Row 81, using b = -1.022861369264993e+49 and m = -1.7225790127143256e+50, Error = 1.230896579981237e+101\n",
      "At Row 82, using b = -1.022861369264993e+49 and m = -1.7225790127143256e+50, Error = 1.920999272674516e+101\n",
      "At Row 83, using b = -1.022861369264993e+49 and m = -1.7225790127143256e+50, Error = 9.976822022550738e+100\n",
      "At Row 84, using b = -1.022861369264993e+49 and m = -1.7225790127143256e+50, Error = 1.5244726813362217e+100\n",
      "At Row 85, using b = -1.022861369264993e+49 and m = -1.7225790127143256e+50, Error = 8.902521632529528e+100\n",
      "At Row 86, using b = -1.022861369264993e+49 and m = -1.7225790127143256e+50, Error = 1.6266038958752837e+101\n",
      "At Row 87, using b = -1.022861369264993e+49 and m = -1.7225790127143256e+50, Error = 1.5244726813362217e+100\n",
      "At Row 88, using b = -1.022861369264993e+49 and m = -1.7225790127143256e+50, Error = 1.1231632811187722e+100\n",
      "At Row 89, using b = -1.022861369264993e+49 and m = -1.7225790127143256e+50, Error = 4.448734668519509e+100\n",
      "At Row 90, using b = -1.022861369264993e+49 and m = -1.7225790127143256e+50, Error = 1.0786034852934602e+96\n",
      "At Row 91, using b = -1.022861369264993e+49 and m = -1.7225790127143256e+50, Error = 4.448734668519509e+100\n",
      "At Row 92, using b = -1.022861369264993e+49 and m = -1.7225790127143256e+50, Error = 2.8632107490483886e+99\n",
      "At Row 93, using b = -1.022861369264993e+49 and m = -1.7225790127143256e+50, Error = 6.04670645690431e+100\n",
      "At Row 94, using b = -1.022861369264993e+49 and m = -1.7225790127143256e+50, Error = 1.111230341164502e+101\n",
      "At Row 95, using b = -1.022861369264993e+49 and m = -1.7225790127143256e+50, Error = 3.095486876426986e+100\n",
      "At Row 96, using b = -1.022861369264993e+49 and m = -1.7225790127143256e+50, Error = 4.448734668519509e+100\n",
      "\n",
      " Total Error is: 6.394404847174636e+100\n"
     ]
    },
    {
     "data": {
      "text/plain": [
       "(4.448734668519509e+100, 6.394404847174636e+100)"
      ]
     },
     "execution_count": 82,
     "metadata": {},
     "output_type": "execute_result"
    }
   ],
   "source": [
    "compute_error(b, m,points[3:])"
   ]
  },
  {
   "cell_type": "code",
   "execution_count": 83,
   "metadata": {},
   "outputs": [
    {
     "name": "stdout",
     "output_type": "stream",
     "text": [
      "-8.715181200498127e+50\n"
     ]
    }
   ],
   "source": [
    "# predict\n",
    "# suppose a student's learning time is 5 hours\n",
    "X_test = 5\n",
    "y_test = m * X_test + b\n",
    "print(y_test)"
   ]
  },
  {
   "cell_type": "code",
   "execution_count": null,
   "metadata": {},
   "outputs": [],
   "source": []
  },
  {
   "cell_type": "code",
   "execution_count": 84,
   "metadata": {},
   "outputs": [],
   "source": [
    " with open('employee_file.csv', mode='w') as employee_file:\n",
    "    employee_writer = csv.writer(employee_file, delimiter=',', quotechar='\"', quoting=csv.QUOTE_MINIMAL)\n",
    "\n",
    "    employee_writer.writerow(['John Smith', 'Accounting', 'November'])\n",
    "    employee_writer.writerow(['Erica Meyers', 'IT', 'March'])"
   ]
  },
  {
   "cell_type": "code",
   "execution_count": null,
   "metadata": {},
   "outputs": [],
   "source": []
  }
 ],
 "metadata": {
  "kernelspec": {
   "display_name": "Python 3",
   "language": "python",
   "name": "python3"
  },
  "language_info": {
   "codemirror_mode": {
    "name": "ipython",
    "version": 3
   },
   "file_extension": ".py",
   "mimetype": "text/x-python",
   "name": "python",
   "nbconvert_exporter": "python",
   "pygments_lexer": "ipython3",
   "version": "3.8.2"
  }
 },
 "nbformat": 4,
 "nbformat_minor": 4
}
